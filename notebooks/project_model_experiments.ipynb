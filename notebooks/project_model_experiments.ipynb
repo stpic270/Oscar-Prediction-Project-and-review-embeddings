{
  "cells": [
    {
      "cell_type": "code",
      "execution_count": 1,
      "metadata": {
        "id": "dkjn2ih3rjMw"
      },
      "outputs": [],
      "source": [
        "!pip install -q transformers"
      ]
    },
    {
      "cell_type": "code",
      "execution_count": 192,
      "metadata": {
        "id": "pyAB6qkZlNfR"
      },
      "outputs": [],
      "source": [
        "from collections import Counter\n",
        "\n",
        "import pandas as pd\n",
        "import numpy as np\n",
        "from imblearn.over_sampling import SMOTE\n",
        "\n",
        "import torch\n",
        "from torch import nn\n",
        "import torch.nn.functional as F\n",
        "import torch.optim as optim\n",
        "\n",
        "from sklearn.svm import SVC\n",
        "from sklearn.preprocessing import StandardScaler\n",
        "from sklearn.model_selection import train_test_split\n",
        "from sklearn.metrics import accuracy_score, confusion_matrix, ConfusionMatrixDisplay, classification_report\n",
        "from sklearn import preprocessing\n",
        "\n",
        "from bs4 import BeautifulSoup\n",
        "import requests\n",
        "\n",
        "import re\n",
        "\n",
        "import os\n",
        "import time\n",
        "import pickle\n",
        "import copy\n",
        "\n",
        "from transformers import pipeline\n",
        "from transformers import DistilBertTokenizer, DistilBertForSequenceClassification\n",
        "\n",
        "import matplotlib.pyplot as plt\n",
        "\n",
        "from google.colab import drive\n",
        "\n",
        "device = torch.device(\"cuda\" if torch.cuda.is_available() else 'cpu')"
      ]
    },
    {
      "cell_type": "code",
      "execution_count": 3,
      "metadata": {
        "colab": {
          "base_uri": "https://localhost:8080/"
        },
        "id": "tOi2fM4OlY_e",
        "outputId": "8b46095f-97f5-49d6-ef9e-cee41a6a0a95"
      },
      "outputs": [
        {
          "name": "stdout",
          "output_type": "stream",
          "text": [
            "Mounted at /content/drive\n"
          ]
        }
      ],
      "source": [
        "drive.mount('/content/drive')"
      ]
    },
    {
      "cell_type": "code",
      "execution_count": 4,
      "metadata": {
        "id": "cdAkel3ElajM"
      },
      "outputs": [],
      "source": [
        "df = pd.read_csv('/content/drive/MyDrive/project/final_simple_project_data.csv', index_col=0)"
      ]
    },
    {
      "cell_type": "code",
      "execution_count": 5,
      "metadata": {
        "id": "yr3TeixWGzNR"
      },
      "outputs": [],
      "source": [
        "with open('/content/drive/MyDrive/project/nested_reviews.pkl', 'rb') as file:\n",
        "    nested_reviews = pickle.load(file)"
      ]
    },
    {
      "cell_type": "code",
      "execution_count": 6,
      "metadata": {
        "colab": {
          "base_uri": "https://localhost:8080/",
          "height": 206
        },
        "id": "XpvkVJSomAUJ",
        "outputId": "5a35f6c2-845f-42ac-99c4-a599c0fa8ce0"
      },
      "outputs": [
        {
          "data": {
            "text/html": [
              "\n",
              "  <div id=\"df-ff2c2ab6-d8e3-47cd-95b6-b9f79790d998\" class=\"colab-df-container\">\n",
              "    <div>\n",
              "<style scoped>\n",
              "    .dataframe tbody tr th:only-of-type {\n",
              "        vertical-align: middle;\n",
              "    }\n",
              "\n",
              "    .dataframe tbody tr th {\n",
              "        vertical-align: top;\n",
              "    }\n",
              "\n",
              "    .dataframe thead th {\n",
              "        text-align: right;\n",
              "    }\n",
              "</style>\n",
              "<table border=\"1\" class=\"dataframe\">\n",
              "  <thead>\n",
              "    <tr style=\"text-align: right;\">\n",
              "      <th></th>\n",
              "      <th>title</th>\n",
              "      <th>oscar_win</th>\n",
              "      <th>raw_reviews</th>\n",
              "    </tr>\n",
              "  </thead>\n",
              "  <tbody>\n",
              "    <tr>\n",
              "      <th>0</th>\n",
              "      <td>Hustle &amp; Flow</td>\n",
              "      <td>0</td>\n",
              "      <td>Miss Wood has a beauty and radiance that carry...</td>\n",
              "    </tr>\n",
              "    <tr>\n",
              "      <th>1</th>\n",
              "      <td>Art and Craft</td>\n",
              "      <td>0</td>\n",
              "      <td>One of the most complex and powerful literary ...</td>\n",
              "    </tr>\n",
              "    <tr>\n",
              "      <th>2</th>\n",
              "      <td>Shall We Kiss?</td>\n",
              "      <td>0</td>\n",
              "      <td>A delectably naughty experience. This sort of ...</td>\n",
              "    </tr>\n",
              "    <tr>\n",
              "      <th>3</th>\n",
              "      <td>The Barbarian Invasions</td>\n",
              "      <td>0</td>\n",
              "      <td>This suspenseful drama reveals pieces of its p...</td>\n",
              "    </tr>\n",
              "    <tr>\n",
              "      <th>4</th>\n",
              "      <td>Life During Wartime</td>\n",
              "      <td>0</td>\n",
              "      <td>Roberts and Erin Brockovich have Oscar contend...</td>\n",
              "    </tr>\n",
              "  </tbody>\n",
              "</table>\n",
              "</div>\n",
              "    <div class=\"colab-df-buttons\">\n",
              "\n",
              "  <div class=\"colab-df-container\">\n",
              "    <button class=\"colab-df-convert\" onclick=\"convertToInteractive('df-ff2c2ab6-d8e3-47cd-95b6-b9f79790d998')\"\n",
              "            title=\"Convert this dataframe to an interactive table.\"\n",
              "            style=\"display:none;\">\n",
              "\n",
              "  <svg xmlns=\"http://www.w3.org/2000/svg\" height=\"24px\" viewBox=\"0 -960 960 960\">\n",
              "    <path d=\"M120-120v-720h720v720H120Zm60-500h600v-160H180v160Zm220 220h160v-160H400v160Zm0 220h160v-160H400v160ZM180-400h160v-160H180v160Zm440 0h160v-160H620v160ZM180-180h160v-160H180v160Zm440 0h160v-160H620v160Z\"/>\n",
              "  </svg>\n",
              "    </button>\n",
              "\n",
              "  <style>\n",
              "    .colab-df-container {\n",
              "      display:flex;\n",
              "      gap: 12px;\n",
              "    }\n",
              "\n",
              "    .colab-df-convert {\n",
              "      background-color: #E8F0FE;\n",
              "      border: none;\n",
              "      border-radius: 50%;\n",
              "      cursor: pointer;\n",
              "      display: none;\n",
              "      fill: #1967D2;\n",
              "      height: 32px;\n",
              "      padding: 0 0 0 0;\n",
              "      width: 32px;\n",
              "    }\n",
              "\n",
              "    .colab-df-convert:hover {\n",
              "      background-color: #E2EBFA;\n",
              "      box-shadow: 0px 1px 2px rgba(60, 64, 67, 0.3), 0px 1px 3px 1px rgba(60, 64, 67, 0.15);\n",
              "      fill: #174EA6;\n",
              "    }\n",
              "\n",
              "    .colab-df-buttons div {\n",
              "      margin-bottom: 4px;\n",
              "    }\n",
              "\n",
              "    [theme=dark] .colab-df-convert {\n",
              "      background-color: #3B4455;\n",
              "      fill: #D2E3FC;\n",
              "    }\n",
              "\n",
              "    [theme=dark] .colab-df-convert:hover {\n",
              "      background-color: #434B5C;\n",
              "      box-shadow: 0px 1px 3px 1px rgba(0, 0, 0, 0.15);\n",
              "      filter: drop-shadow(0px 1px 2px rgba(0, 0, 0, 0.3));\n",
              "      fill: #FFFFFF;\n",
              "    }\n",
              "  </style>\n",
              "\n",
              "    <script>\n",
              "      const buttonEl =\n",
              "        document.querySelector('#df-ff2c2ab6-d8e3-47cd-95b6-b9f79790d998 button.colab-df-convert');\n",
              "      buttonEl.style.display =\n",
              "        google.colab.kernel.accessAllowed ? 'block' : 'none';\n",
              "\n",
              "      async function convertToInteractive(key) {\n",
              "        const element = document.querySelector('#df-ff2c2ab6-d8e3-47cd-95b6-b9f79790d998');\n",
              "        const dataTable =\n",
              "          await google.colab.kernel.invokeFunction('convertToInteractive',\n",
              "                                                    [key], {});\n",
              "        if (!dataTable) return;\n",
              "\n",
              "        const docLinkHtml = 'Like what you see? Visit the ' +\n",
              "          '<a target=\"_blank\" href=https://colab.research.google.com/notebooks/data_table.ipynb>data table notebook</a>'\n",
              "          + ' to learn more about interactive tables.';\n",
              "        element.innerHTML = '';\n",
              "        dataTable['output_type'] = 'display_data';\n",
              "        await google.colab.output.renderOutput(dataTable, element);\n",
              "        const docLink = document.createElement('div');\n",
              "        docLink.innerHTML = docLinkHtml;\n",
              "        element.appendChild(docLink);\n",
              "      }\n",
              "    </script>\n",
              "  </div>\n",
              "\n",
              "\n",
              "<div id=\"df-58202a7c-f849-47c8-9999-3839f5cbc279\">\n",
              "  <button class=\"colab-df-quickchart\" onclick=\"quickchart('df-58202a7c-f849-47c8-9999-3839f5cbc279')\"\n",
              "            title=\"Suggest charts\"\n",
              "            style=\"display:none;\">\n",
              "\n",
              "<svg xmlns=\"http://www.w3.org/2000/svg\" height=\"24px\"viewBox=\"0 0 24 24\"\n",
              "     width=\"24px\">\n",
              "    <g>\n",
              "        <path d=\"M19 3H5c-1.1 0-2 .9-2 2v14c0 1.1.9 2 2 2h14c1.1 0 2-.9 2-2V5c0-1.1-.9-2-2-2zM9 17H7v-7h2v7zm4 0h-2V7h2v10zm4 0h-2v-4h2v4z\"/>\n",
              "    </g>\n",
              "</svg>\n",
              "  </button>\n",
              "\n",
              "<style>\n",
              "  .colab-df-quickchart {\n",
              "      --bg-color: #E8F0FE;\n",
              "      --fill-color: #1967D2;\n",
              "      --hover-bg-color: #E2EBFA;\n",
              "      --hover-fill-color: #174EA6;\n",
              "      --disabled-fill-color: #AAA;\n",
              "      --disabled-bg-color: #DDD;\n",
              "  }\n",
              "\n",
              "  [theme=dark] .colab-df-quickchart {\n",
              "      --bg-color: #3B4455;\n",
              "      --fill-color: #D2E3FC;\n",
              "      --hover-bg-color: #434B5C;\n",
              "      --hover-fill-color: #FFFFFF;\n",
              "      --disabled-bg-color: #3B4455;\n",
              "      --disabled-fill-color: #666;\n",
              "  }\n",
              "\n",
              "  .colab-df-quickchart {\n",
              "    background-color: var(--bg-color);\n",
              "    border: none;\n",
              "    border-radius: 50%;\n",
              "    cursor: pointer;\n",
              "    display: none;\n",
              "    fill: var(--fill-color);\n",
              "    height: 32px;\n",
              "    padding: 0;\n",
              "    width: 32px;\n",
              "  }\n",
              "\n",
              "  .colab-df-quickchart:hover {\n",
              "    background-color: var(--hover-bg-color);\n",
              "    box-shadow: 0 1px 2px rgba(60, 64, 67, 0.3), 0 1px 3px 1px rgba(60, 64, 67, 0.15);\n",
              "    fill: var(--button-hover-fill-color);\n",
              "  }\n",
              "\n",
              "  .colab-df-quickchart-complete:disabled,\n",
              "  .colab-df-quickchart-complete:disabled:hover {\n",
              "    background-color: var(--disabled-bg-color);\n",
              "    fill: var(--disabled-fill-color);\n",
              "    box-shadow: none;\n",
              "  }\n",
              "\n",
              "  .colab-df-spinner {\n",
              "    border: 2px solid var(--fill-color);\n",
              "    border-color: transparent;\n",
              "    border-bottom-color: var(--fill-color);\n",
              "    animation:\n",
              "      spin 1s steps(1) infinite;\n",
              "  }\n",
              "\n",
              "  @keyframes spin {\n",
              "    0% {\n",
              "      border-color: transparent;\n",
              "      border-bottom-color: var(--fill-color);\n",
              "      border-left-color: var(--fill-color);\n",
              "    }\n",
              "    20% {\n",
              "      border-color: transparent;\n",
              "      border-left-color: var(--fill-color);\n",
              "      border-top-color: var(--fill-color);\n",
              "    }\n",
              "    30% {\n",
              "      border-color: transparent;\n",
              "      border-left-color: var(--fill-color);\n",
              "      border-top-color: var(--fill-color);\n",
              "      border-right-color: var(--fill-color);\n",
              "    }\n",
              "    40% {\n",
              "      border-color: transparent;\n",
              "      border-right-color: var(--fill-color);\n",
              "      border-top-color: var(--fill-color);\n",
              "    }\n",
              "    60% {\n",
              "      border-color: transparent;\n",
              "      border-right-color: var(--fill-color);\n",
              "    }\n",
              "    80% {\n",
              "      border-color: transparent;\n",
              "      border-right-color: var(--fill-color);\n",
              "      border-bottom-color: var(--fill-color);\n",
              "    }\n",
              "    90% {\n",
              "      border-color: transparent;\n",
              "      border-bottom-color: var(--fill-color);\n",
              "    }\n",
              "  }\n",
              "</style>\n",
              "\n",
              "  <script>\n",
              "    async function quickchart(key) {\n",
              "      const quickchartButtonEl =\n",
              "        document.querySelector('#' + key + ' button');\n",
              "      quickchartButtonEl.disabled = true;  // To prevent multiple clicks.\n",
              "      quickchartButtonEl.classList.add('colab-df-spinner');\n",
              "      try {\n",
              "        const charts = await google.colab.kernel.invokeFunction(\n",
              "            'suggestCharts', [key], {});\n",
              "      } catch (error) {\n",
              "        console.error('Error during call to suggestCharts:', error);\n",
              "      }\n",
              "      quickchartButtonEl.classList.remove('colab-df-spinner');\n",
              "      quickchartButtonEl.classList.add('colab-df-quickchart-complete');\n",
              "    }\n",
              "    (() => {\n",
              "      let quickchartButtonEl =\n",
              "        document.querySelector('#df-58202a7c-f849-47c8-9999-3839f5cbc279 button');\n",
              "      quickchartButtonEl.style.display =\n",
              "        google.colab.kernel.accessAllowed ? 'block' : 'none';\n",
              "    })();\n",
              "  </script>\n",
              "</div>\n",
              "    </div>\n",
              "  </div>\n"
            ],
            "text/plain": [
              "                     title  oscar_win  \\\n",
              "0            Hustle & Flow          0   \n",
              "1            Art and Craft          0   \n",
              "2           Shall We Kiss?          0   \n",
              "3  The Barbarian Invasions          0   \n",
              "4      Life During Wartime          0   \n",
              "\n",
              "                                         raw_reviews  \n",
              "0  Miss Wood has a beauty and radiance that carry...  \n",
              "1  One of the most complex and powerful literary ...  \n",
              "2  A delectably naughty experience. This sort of ...  \n",
              "3  This suspenseful drama reveals pieces of its p...  \n",
              "4  Roberts and Erin Brockovich have Oscar contend...  "
            ]
          },
          "execution_count": 6,
          "metadata": {},
          "output_type": "execute_result"
        }
      ],
      "source": [
        "df.head()"
      ]
    },
    {
      "cell_type": "code",
      "execution_count": 7,
      "metadata": {
        "colab": {
          "base_uri": "https://localhost:8080/",
          "height": 859,
          "referenced_widgets": [
            "8febb11991f74247af7dc2dd780fdb0f",
            "f13399ae20be4ccfac935becf3d1ad59",
            "d7ec15d80f104c2e803f2d3e41c99d2b",
            "188226a85c4444dca7dd67e27d9b197e",
            "22596b94a8fb4695b43d6b4889d14e3a",
            "b69879442bdc4aec9f5a3e49458c9b35",
            "3bf896624277421f88361463a9ebb536",
            "078b910f5ee24542b797c1cfc2991d96",
            "3232e3c782024292bac2f2e6edf678dc",
            "dc9a4c452cee4ca49cfd798cf568f125",
            "991de7ddbe4a4c8f8234b07d07aba26a",
            "6a3b8e8e69424c35b03c0c8ba9cc2cfe",
            "5df97ce85ca24b14b57f4adc40bee4fa",
            "d1b8a43fd4f34554a9cb325489786736",
            "6d16c54d94154d3cb938a3ec475c9376",
            "0fa72058453e44f0ba1b4de4f4432411",
            "9b4744fd8d86401f9ee91d16e9895252",
            "68ee17a9dab04bd8a346ba4716026b3d",
            "c0aa41b4386c4d5aa9c0e9b9fcb84083",
            "62109ca4f8ce44beb0ed7e9039dce447",
            "181e5ebcfc82471b97aacd1c99aa8c7a",
            "d683563b88854c5da9fbd06f3db11fca",
            "5ef760decb224a09b43a49b08b304042",
            "ce01f3e6836a4b0d8f0538de6906c313",
            "e41a2aaf68d84991b4d2f56a584c74ae",
            "dd8222dea42c447bbf34a1e590dc7856",
            "e6072e7c3c234af9b65563ae8b021f37",
            "be69a906b9c1484893d79eac06763c4a",
            "3ea5cb266b63461b85b012ef43b6cb92",
            "04dd9444d4664e25a5f3e410d1076abc",
            "19a80452dfa54bc28e277c92d53d5c19",
            "d06de7418370428db898873d0c08060e",
            "513d99588b994e96bd146049726815b8",
            "52868fc1d1b04c0894cbbd5ea4a9530a",
            "a1dd56d39fa54cc394580469fbe351e6",
            "39a042b85f0d4508b24fc236a51ce7d8",
            "12fad7de5b2541df92787eb6f05961d1",
            "68cc832bede84d82bc5ef282237618d7",
            "ec38f798d2cc48ab9c4c66ee7ca75bf0",
            "f740ec34fcdd41d79a60e83c56b77ed4",
            "89675f1d772144bea4f9bc7284dcf02d",
            "8ace0bd084e845e7947535b35e8e024d",
            "856edc4404d1492197393d121c32caf9",
            "af1187e596444affbaa17fb9b044cac7"
          ]
        },
        "id": "Iot0y4bnmBSg",
        "outputId": "9e1e1da2-b79c-40ac-a0ae-53b239a11f84"
      },
      "outputs": [
        {
          "name": "stderr",
          "output_type": "stream",
          "text": [
            "/usr/local/lib/python3.10/dist-packages/huggingface_hub/utils/_token.py:88: UserWarning: \n",
            "The secret `HF_TOKEN` does not exist in your Colab secrets.\n",
            "To authenticate with the Hugging Face Hub, create a token in your settings tab (https://huggingface.co/settings/tokens), set it as secret in your Google Colab and restart your session.\n",
            "You will be able to reuse this secret in all of your notebooks.\n",
            "Please note that authentication is recommended but still optional to access public models or datasets.\n",
            "  warnings.warn(\n"
          ]
        },
        {
          "data": {
            "application/vnd.jupyter.widget-view+json": {
              "model_id": "8febb11991f74247af7dc2dd780fdb0f",
              "version_major": 2,
              "version_minor": 0
            },
            "text/plain": [
              "tokenizer_config.json:   0%|          | 0.00/48.0 [00:00<?, ?B/s]"
            ]
          },
          "metadata": {},
          "output_type": "display_data"
        },
        {
          "data": {
            "application/vnd.jupyter.widget-view+json": {
              "model_id": "6a3b8e8e69424c35b03c0c8ba9cc2cfe",
              "version_major": 2,
              "version_minor": 0
            },
            "text/plain": [
              "vocab.txt:   0%|          | 0.00/232k [00:00<?, ?B/s]"
            ]
          },
          "metadata": {},
          "output_type": "display_data"
        },
        {
          "data": {
            "application/vnd.jupyter.widget-view+json": {
              "model_id": "5ef760decb224a09b43a49b08b304042",
              "version_major": 2,
              "version_minor": 0
            },
            "text/plain": [
              "config.json:   0%|          | 0.00/629 [00:00<?, ?B/s]"
            ]
          },
          "metadata": {},
          "output_type": "display_data"
        },
        {
          "data": {
            "application/vnd.jupyter.widget-view+json": {
              "model_id": "52868fc1d1b04c0894cbbd5ea4a9530a",
              "version_major": 2,
              "version_minor": 0
            },
            "text/plain": [
              "model.safetensors:   0%|          | 0.00/268M [00:00<?, ?B/s]"
            ]
          },
          "metadata": {},
          "output_type": "display_data"
        },
        {
          "data": {
            "text/plain": [
              "DistilBertForSequenceClassification(\n",
              "  (distilbert): DistilBertModel(\n",
              "    (embeddings): Embeddings(\n",
              "      (word_embeddings): Embedding(30522, 768, padding_idx=0)\n",
              "      (position_embeddings): Embedding(512, 768)\n",
              "      (LayerNorm): LayerNorm((768,), eps=1e-12, elementwise_affine=True)\n",
              "      (dropout): Dropout(p=0.1, inplace=False)\n",
              "    )\n",
              "    (transformer): Transformer(\n",
              "      (layer): ModuleList(\n",
              "        (0-5): 6 x TransformerBlock(\n",
              "          (attention): MultiHeadSelfAttention(\n",
              "            (dropout): Dropout(p=0.1, inplace=False)\n",
              "            (q_lin): Linear(in_features=768, out_features=768, bias=True)\n",
              "            (k_lin): Linear(in_features=768, out_features=768, bias=True)\n",
              "            (v_lin): Linear(in_features=768, out_features=768, bias=True)\n",
              "            (out_lin): Linear(in_features=768, out_features=768, bias=True)\n",
              "          )\n",
              "          (sa_layer_norm): LayerNorm((768,), eps=1e-12, elementwise_affine=True)\n",
              "          (ffn): FFN(\n",
              "            (dropout): Dropout(p=0.1, inplace=False)\n",
              "            (lin1): Linear(in_features=768, out_features=3072, bias=True)\n",
              "            (lin2): Linear(in_features=3072, out_features=768, bias=True)\n",
              "            (activation): GELUActivation()\n",
              "          )\n",
              "          (output_layer_norm): LayerNorm((768,), eps=1e-12, elementwise_affine=True)\n",
              "        )\n",
              "      )\n",
              "    )\n",
              "  )\n",
              "  (pre_classifier): Linear(in_features=768, out_features=768, bias=True)\n",
              "  (classifier): Linear(in_features=768, out_features=2, bias=True)\n",
              "  (dropout): Dropout(p=0.2, inplace=False)\n",
              ")"
            ]
          },
          "execution_count": 7,
          "metadata": {},
          "output_type": "execute_result"
        }
      ],
      "source": [
        "tokenizer = DistilBertTokenizer.from_pretrained(\"distilbert-base-uncased-finetuned-sst-2-english\")\n",
        "model = DistilBertForSequenceClassification.from_pretrained(\"distilbert-base-uncased-finetuned-sst-2-english\")\n",
        "model.to(device)"
      ]
    },
    {
      "cell_type": "code",
      "execution_count": 8,
      "metadata": {
        "id": "EIZhzlTStOI5"
      },
      "outputs": [],
      "source": [
        "??model"
      ]
    },
    {
      "cell_type": "code",
      "execution_count": 9,
      "metadata": {
        "id": "tzInsl9SC3Gt"
      },
      "outputs": [],
      "source": [
        "??tokenizer"
      ]
    },
    {
      "cell_type": "code",
      "execution_count": 10,
      "metadata": {
        "id": "ijUr5kf_tVGn"
      },
      "outputs": [],
      "source": [
        "text = [\"Hello, my dog is cute, but it poo's and it stinks often. However, I love it\",\n",
        "        \"Hiii, My name is Stepan\"]\n",
        "inputs = tokenizer(text, return_tensors=\"pt\", padding='longest')\n",
        "inputs.to(device)\n",
        "distilbert_output = model.distilbert(**inputs)"
      ]
    },
    {
      "cell_type": "code",
      "execution_count": 11,
      "metadata": {
        "colab": {
          "base_uri": "https://localhost:8080/"
        },
        "id": "cqEvnHhwLBVi",
        "outputId": "5b0af299-5c57-4434-e349-87287f9704a8"
      },
      "outputs": [
        {
          "data": {
            "text/plain": [
              "torch.Size([2, 26])"
            ]
          },
          "execution_count": 11,
          "metadata": {},
          "output_type": "execute_result"
        }
      ],
      "source": [
        "inputs.input_ids.shape"
      ]
    },
    {
      "cell_type": "code",
      "execution_count": 12,
      "metadata": {
        "id": "rnVvszCOtvV1"
      },
      "outputs": [],
      "source": [
        "hidden_state = distilbert_output[0]"
      ]
    },
    {
      "cell_type": "code",
      "execution_count": 13,
      "metadata": {
        "colab": {
          "base_uri": "https://localhost:8080/"
        },
        "id": "iALxljxLudhF",
        "outputId": "96b89448-a7c9-487f-f551-dd31a988b43b"
      },
      "outputs": [
        {
          "data": {
            "text/plain": [
              "torch.Size([2, 26, 768])"
            ]
          },
          "execution_count": 13,
          "metadata": {},
          "output_type": "execute_result"
        }
      ],
      "source": [
        "hidden_state.shape"
      ]
    },
    {
      "cell_type": "code",
      "execution_count": 14,
      "metadata": {
        "colab": {
          "base_uri": "https://localhost:8080/"
        },
        "id": "lUPyOaHnurpJ",
        "outputId": "bb667727-22ca-4998-e446-872f82003bd5"
      },
      "outputs": [
        {
          "name": "stdout",
          "output_type": "stream",
          "text": [
            "torch.Size([2, 768])\n",
            "torch.Size([2, 768])\n",
            "torch.Size([2, 768])\n",
            "torch.Size([2, 768])\n"
          ]
        }
      ],
      "source": [
        "pooled_output = hidden_state[:, 0]  # (bs, dim)\n",
        "# pooled_output = torch.mean(hidden_state, dim=1)\n",
        "print(pooled_output.shape)\n",
        "pooled_output = model.pre_classifier(pooled_output)  # (bs, dim)\n",
        "print(pooled_output.shape)\n",
        "pooled_output = nn.ReLU()(pooled_output)  # (bs, dim)\n",
        "print(pooled_output.shape)\n",
        "pooled_output = model.dropout(pooled_output)  # (bs, dim)\n",
        "print(pooled_output.shape)\n",
        "logits = model.classifier(pooled_output)  # (bs, num_labels)"
      ]
    },
    {
      "cell_type": "code",
      "execution_count": 15,
      "metadata": {
        "colab": {
          "base_uri": "https://localhost:8080/"
        },
        "id": "-5dDCyuAlXEL",
        "outputId": "288cac65-a9cb-4dc9-e2a5-50609e014050"
      },
      "outputs": [
        {
          "data": {
            "text/plain": [
              "tensor([ 2.2185, -1.9966], device='cuda:0', grad_fn=<SelectBackward0>)"
            ]
          },
          "execution_count": 15,
          "metadata": {},
          "output_type": "execute_result"
        }
      ],
      "source": [
        "logits[0]"
      ]
    },
    {
      "cell_type": "code",
      "execution_count": 16,
      "metadata": {
        "colab": {
          "base_uri": "https://localhost:8080/",
          "height": 36
        },
        "id": "Xb0oavqnxBvS",
        "outputId": "812a9d02-9ba3-4659-9c9a-4f5e08f8838c"
      },
      "outputs": [
        {
          "data": {
            "application/vnd.google.colaboratory.intrinsic+json": {
              "type": "string"
            },
            "text/plain": [
              "'NEGATIVE'"
            ]
          },
          "execution_count": 16,
          "metadata": {},
          "output_type": "execute_result"
        }
      ],
      "source": [
        "predicted_class_id = logits[0].argmax().item()\n",
        "model.config.id2label[predicted_class_id]"
      ]
    },
    {
      "cell_type": "code",
      "execution_count": 17,
      "metadata": {
        "colab": {
          "base_uri": "https://localhost:8080/",
          "height": 36
        },
        "id": "yrF24Csnldjx",
        "outputId": "97b91647-3eeb-46a3-b4eb-7888553a916c"
      },
      "outputs": [
        {
          "data": {
            "application/vnd.google.colaboratory.intrinsic+json": {
              "type": "string"
            },
            "text/plain": [
              "'POSITIVE'"
            ]
          },
          "execution_count": 17,
          "metadata": {},
          "output_type": "execute_result"
        }
      ],
      "source": [
        "predicted_class_id = logits[1].argmax().item()\n",
        "model.config.id2label[predicted_class_id]"
      ]
    },
    {
      "cell_type": "code",
      "execution_count": 18,
      "metadata": {
        "colab": {
          "base_uri": "https://localhost:8080/",
          "height": 53
        },
        "id": "aVizGOAXGrNu",
        "outputId": "7a3092dc-3d61-4e00-e3f0-a8a4cf2cb36b"
      },
      "outputs": [
        {
          "data": {
            "application/vnd.google.colaboratory.intrinsic+json": {
              "type": "string"
            },
            "text/plain": [
              "'Miss Wood has a beauty and radiance that carry her through a role of violent passions and depressions with unsullied purity and strength. There is poetry in her performance, and her eyes in the final scene bespeak the moral significance and emotional fulfillment of this film.'"
            ]
          },
          "execution_count": 18,
          "metadata": {},
          "output_type": "execute_result"
        }
      ],
      "source": [
        "nested_reviews[0][0]"
      ]
    },
    {
      "cell_type": "code",
      "execution_count": 19,
      "metadata": {
        "id": "1PyCNJxJG3qD"
      },
      "outputs": [],
      "source": [
        "# hidden_states_list = []\n",
        "\n",
        "# for i, reviews in enumerate(nested_reviews):\n",
        "\n",
        "#     with torch.no_grad():\n",
        "#         inputs = tokenizer(reviews, return_tensors=\"pt\", padding='longest')\n",
        "#         inputs.to(device)\n",
        "#         distilbert_output = model.distilbert(**inputs)\n",
        "#         hidden_state = distilbert_output[0]\n",
        "#         hidden_state = hidden_state[:, 0]\n",
        "#         # Uncomment this string to get hidden states mean\n",
        "#         # hidden_state = torch.mean(hidden_state, dim=0)\n",
        "\n",
        "#     hidden_states_list.append(hidden_state)\n",
        "\n",
        "#     if i%100==0:\n",
        "#         print(\"Number of iteration - \", i)\n",
        "\n",
        "#     if i % 3000 ==0:\n",
        "#         with open(f'/content/drive/MyDrive/project/embeddings/all_batches_{str(i)}_iters.pkl', 'wb') as file:\n",
        "#             pickle.dump(hidden_states_list, file)\n",
        "\n",
        "#         del hidden_states_list\n",
        "#         torch.cuda.empty_cache()\n",
        "#         hidden_states_list = []"
      ]
    },
    {
      "cell_type": "code",
      "execution_count": 20,
      "metadata": {
        "id": "QFCruuUcPW-Y"
      },
      "outputs": [],
      "source": [
        "# with open('/content/drive/MyDrive/project/embeddings/mean_for_batch.pkl', 'wb') as file:\n",
        "#     pickle.dump(hidden_states_list, file)"
      ]
    },
    {
      "cell_type": "code",
      "execution_count": 21,
      "metadata": {
        "id": "eJ7CbX7b_dw4"
      },
      "outputs": [],
      "source": [
        "# del hidden_states_list"
      ]
    },
    {
      "cell_type": "code",
      "execution_count": 22,
      "metadata": {
        "id": "mmhykGvW_7V0"
      },
      "outputs": [],
      "source": [
        "torch.cuda.empty_cache()"
      ]
    },
    {
      "cell_type": "markdown",
      "metadata": {
        "id": "ZEvTaSYJl0Z1"
      },
      "source": [
        "# Load embeddings"
      ]
    },
    {
      "cell_type": "code",
      "execution_count": 69,
      "metadata": {
        "id": "cAi1dBNCUr2X"
      },
      "outputs": [],
      "source": [
        "with open('/content/drive/MyDrive/project/embeddings/mean_for_batch.pkl', 'rb') as file:\n",
        "    embedding_list = pickle.load(file)"
      ]
    },
    {
      "cell_type": "markdown",
      "metadata": {
        "id": "LJZYpU9LmSui"
      },
      "source": [
        "## SVM Model with embeddings"
      ]
    },
    {
      "cell_type": "code",
      "execution_count": 70,
      "metadata": {
        "colab": {
          "base_uri": "https://localhost:8080/"
        },
        "id": "n11SNwE1mQFt",
        "outputId": "022eb896-941a-49b5-a2c9-979ea1f3abb0"
      },
      "outputs": [
        {
          "data": {
            "text/plain": [
              "12029"
            ]
          },
          "execution_count": 70,
          "metadata": {},
          "output_type": "execute_result"
        }
      ],
      "source": [
        "len(embedding_list)"
      ]
    },
    {
      "cell_type": "code",
      "execution_count": 71,
      "metadata": {
        "id": "u8FlO7_pqBjK"
      },
      "outputs": [],
      "source": [
        "numpy_embedding_list = [t_embed.detach().cpu().numpy() for t_embed in embedding_list]\n",
        "numpy_embedding_list = np.array(numpy_embedding_list)"
      ]
    },
    {
      "cell_type": "code",
      "execution_count": 72,
      "metadata": {
        "colab": {
          "base_uri": "https://localhost:8080/"
        },
        "id": "sHSUnE-dqVlT",
        "outputId": "d3240dbd-eac9-4c64-c03b-effdebb23302"
      },
      "outputs": [
        {
          "data": {
            "text/plain": [
              "(12029, 768)"
            ]
          },
          "execution_count": 72,
          "metadata": {},
          "output_type": "execute_result"
        }
      ],
      "source": [
        "numpy_embedding_list.shape"
      ]
    },
    {
      "cell_type": "code",
      "execution_count": 73,
      "metadata": {
        "id": "BPZDyrX6miZ2"
      },
      "outputs": [],
      "source": [
        "X_train, X_test, y_train, y_test = train_test_split(numpy_embedding_list ,df['oscar_win'], test_size=0.15)"
      ]
    },
    {
      "cell_type": "code",
      "execution_count": 74,
      "metadata": {
        "colab": {
          "base_uri": "https://localhost:8080/",
          "height": 74
        },
        "id": "mhI5F1mBoIKb",
        "outputId": "52366ead-cd71-4745-a05e-65843a1acc0d"
      },
      "outputs": [
        {
          "data": {
            "text/html": [
              "<style>#sk-container-id-3 {color: black;background-color: white;}#sk-container-id-3 pre{padding: 0;}#sk-container-id-3 div.sk-toggleable {background-color: white;}#sk-container-id-3 label.sk-toggleable__label {cursor: pointer;display: block;width: 100%;margin-bottom: 0;padding: 0.3em;box-sizing: border-box;text-align: center;}#sk-container-id-3 label.sk-toggleable__label-arrow:before {content: \"▸\";float: left;margin-right: 0.25em;color: #696969;}#sk-container-id-3 label.sk-toggleable__label-arrow:hover:before {color: black;}#sk-container-id-3 div.sk-estimator:hover label.sk-toggleable__label-arrow:before {color: black;}#sk-container-id-3 div.sk-toggleable__content {max-height: 0;max-width: 0;overflow: hidden;text-align: left;background-color: #f0f8ff;}#sk-container-id-3 div.sk-toggleable__content pre {margin: 0.2em;color: black;border-radius: 0.25em;background-color: #f0f8ff;}#sk-container-id-3 input.sk-toggleable__control:checked~div.sk-toggleable__content {max-height: 200px;max-width: 100%;overflow: auto;}#sk-container-id-3 input.sk-toggleable__control:checked~label.sk-toggleable__label-arrow:before {content: \"▾\";}#sk-container-id-3 div.sk-estimator input.sk-toggleable__control:checked~label.sk-toggleable__label {background-color: #d4ebff;}#sk-container-id-3 div.sk-label input.sk-toggleable__control:checked~label.sk-toggleable__label {background-color: #d4ebff;}#sk-container-id-3 input.sk-hidden--visually {border: 0;clip: rect(1px 1px 1px 1px);clip: rect(1px, 1px, 1px, 1px);height: 1px;margin: -1px;overflow: hidden;padding: 0;position: absolute;width: 1px;}#sk-container-id-3 div.sk-estimator {font-family: monospace;background-color: #f0f8ff;border: 1px dotted black;border-radius: 0.25em;box-sizing: border-box;margin-bottom: 0.5em;}#sk-container-id-3 div.sk-estimator:hover {background-color: #d4ebff;}#sk-container-id-3 div.sk-parallel-item::after {content: \"\";width: 100%;border-bottom: 1px solid gray;flex-grow: 1;}#sk-container-id-3 div.sk-label:hover label.sk-toggleable__label {background-color: #d4ebff;}#sk-container-id-3 div.sk-serial::before {content: \"\";position: absolute;border-left: 1px solid gray;box-sizing: border-box;top: 0;bottom: 0;left: 50%;z-index: 0;}#sk-container-id-3 div.sk-serial {display: flex;flex-direction: column;align-items: center;background-color: white;padding-right: 0.2em;padding-left: 0.2em;position: relative;}#sk-container-id-3 div.sk-item {position: relative;z-index: 1;}#sk-container-id-3 div.sk-parallel {display: flex;align-items: stretch;justify-content: center;background-color: white;position: relative;}#sk-container-id-3 div.sk-item::before, #sk-container-id-3 div.sk-parallel-item::before {content: \"\";position: absolute;border-left: 1px solid gray;box-sizing: border-box;top: 0;bottom: 0;left: 50%;z-index: -1;}#sk-container-id-3 div.sk-parallel-item {display: flex;flex-direction: column;z-index: 1;position: relative;background-color: white;}#sk-container-id-3 div.sk-parallel-item:first-child::after {align-self: flex-end;width: 50%;}#sk-container-id-3 div.sk-parallel-item:last-child::after {align-self: flex-start;width: 50%;}#sk-container-id-3 div.sk-parallel-item:only-child::after {width: 0;}#sk-container-id-3 div.sk-dashed-wrapped {border: 1px dashed gray;margin: 0 0.4em 0.5em 0.4em;box-sizing: border-box;padding-bottom: 0.4em;background-color: white;}#sk-container-id-3 div.sk-label label {font-family: monospace;font-weight: bold;display: inline-block;line-height: 1.2em;}#sk-container-id-3 div.sk-label-container {text-align: center;}#sk-container-id-3 div.sk-container {/* jupyter's `normalize.less` sets `[hidden] { display: none; }` but bootstrap.min.css set `[hidden] { display: none !important; }` so we also need the `!important` here to be able to override the default hidden behavior on the sphinx rendered scikit-learn.org. See: https://github.com/scikit-learn/scikit-learn/issues/21755 */display: inline-block !important;position: relative;}#sk-container-id-3 div.sk-text-repr-fallback {display: none;}</style><div id=\"sk-container-id-3\" class=\"sk-top-container\"><div class=\"sk-text-repr-fallback\"><pre>SVC(random_state=101)</pre><b>In a Jupyter environment, please rerun this cell to show the HTML representation or trust the notebook. <br />On GitHub, the HTML representation is unable to render, please try loading this page with nbviewer.org.</b></div><div class=\"sk-container\" hidden><div class=\"sk-item\"><div class=\"sk-estimator sk-toggleable\"><input class=\"sk-toggleable__control sk-hidden--visually\" id=\"sk-estimator-id-3\" type=\"checkbox\" checked><label for=\"sk-estimator-id-3\" class=\"sk-toggleable__label sk-toggleable__label-arrow\">SVC</label><div class=\"sk-toggleable__content\"><pre>SVC(random_state=101)</pre></div></div></div></div></div>"
            ],
            "text/plain": [
              "SVC(random_state=101)"
            ]
          },
          "execution_count": 74,
          "metadata": {},
          "output_type": "execute_result"
        }
      ],
      "source": [
        "svc = SVC(random_state=101)\n",
        "svc.fit(X_train,y_train)"
      ]
    },
    {
      "cell_type": "code",
      "execution_count": 75,
      "metadata": {
        "id": "P_dd6-MZs-k-"
      },
      "outputs": [],
      "source": [
        "class_names = ['non oscar winners', 'oscar winners']"
      ]
    },
    {
      "cell_type": "code",
      "execution_count": 76,
      "metadata": {
        "id": "thbWrh-nsXB6"
      },
      "outputs": [],
      "source": [
        "def display_confusion_matrix(model,X_test, y_test, class_names):\n",
        "    np.set_printoptions(precision=2)\n",
        "\n",
        "    # Plot non-normalized confusion matrix\n",
        "    titles_options = [\n",
        "        (\"Confusion matrix, without normalization\", None),\n",
        "        (\"Normalized confusion matrix\", \"true\"),\n",
        "    ]\n",
        "    for title, normalize in titles_options:\n",
        "        disp = ConfusionMatrixDisplay.from_estimator(\n",
        "            model,\n",
        "            X_test,\n",
        "            y_test,\n",
        "            display_labels=class_names,\n",
        "            cmap=plt.cm.Blues,\n",
        "            normalize=normalize,\n",
        "        )\n",
        "        disp.ax_.set_title(title)\n",
        "\n",
        "        print(title)\n",
        "        print(disp.confusion_matrix)\n",
        "\n",
        "    plt.show()"
      ]
    },
    {
      "cell_type": "code",
      "execution_count": 77,
      "metadata": {
        "colab": {
          "base_uri": "https://localhost:8080/",
          "height": 1000
        },
        "id": "2MBBuGFUJ56v",
        "outputId": "f632e6b3-ac55-4339-b50b-5029711d2424"
      },
      "outputs": [
        {
          "name": "stdout",
          "output_type": "stream",
          "text": [
            "Confusion matrix, without normalization\n",
            "[[1775    0]\n",
            " [  30    0]]\n",
            "Normalized confusion matrix\n",
            "[[1. 0.]\n",
            " [1. 0.]]\n"
          ]
        },
        {
          "data": {
            "image/png": "[encoded data removed]",
            "text/plain": [
              "<Figure size 640x480 with 2 Axes>"
            ]
          },
          "metadata": {},
          "output_type": "display_data"
        },
        {
          "data": {
            "image/png": "[encoded data removed]",
            "text/plain": [
              "<Figure size 640x480 with 2 Axes>"
            ]
          },
          "metadata": {},
          "output_type": "display_data"
        }
      ],
      "source": [
        "display_confusion_matrix(model=svc,\n",
        "                         X_test=X_test,\n",
        "                         y_test=y_test,\n",
        "                         class_names=class_names)"
      ]
    },
    {
      "cell_type": "code",
      "execution_count": 78,
      "metadata": {
        "id": "cM0pKgRctF_X"
      },
      "outputs": [],
      "source": [
        "y_pred = svc.predict(X_test)"
      ]
    },
    {
      "cell_type": "code",
      "execution_count": 80,
      "metadata": {
        "colab": {
          "base_uri": "https://localhost:8080/"
        },
        "id": "bStV0zp1LJ-J",
        "outputId": "c90f4d7c-3dbc-4787-953d-dcdef57055df"
      },
      "outputs": [
        {
          "name": "stdout",
          "output_type": "stream",
          "text": [
            "                   precision    recall  f1-score   support\n",
            "\n",
            "non oscar winners       0.98      1.00      0.99      1775\n",
            "    oscar winners       0.00      0.00      0.00        30\n",
            "\n",
            "         accuracy                           0.98      1805\n",
            "        macro avg       0.49      0.50      0.50      1805\n",
            "     weighted avg       0.97      0.98      0.98      1805\n",
            "\n"
          ]
        },
        {
          "name": "stderr",
          "output_type": "stream",
          "text": [
            "/usr/local/lib/python3.10/dist-packages/sklearn/metrics/_classification.py:1344: UndefinedMetricWarning: Precision and F-score are ill-defined and being set to 0.0 in labels with no predicted samples. Use `zero_division` parameter to control this behavior.\n",
            "  _warn_prf(average, modifier, msg_start, len(result))\n",
            "/usr/local/lib/python3.10/dist-packages/sklearn/metrics/_classification.py:1344: UndefinedMetricWarning: Precision and F-score are ill-defined and being set to 0.0 in labels with no predicted samples. Use `zero_division` parameter to control this behavior.\n",
            "  _warn_prf(average, modifier, msg_start, len(result))\n",
            "/usr/local/lib/python3.10/dist-packages/sklearn/metrics/_classification.py:1344: UndefinedMetricWarning: Precision and F-score are ill-defined and being set to 0.0 in labels with no predicted samples. Use `zero_division` parameter to control this behavior.\n",
            "  _warn_prf(average, modifier, msg_start, len(result))\n"
          ]
        }
      ],
      "source": [
        "report = classification_report(y_test,y_pred,target_names=class_names)\n",
        "print(report)"
      ]
    },
    {
      "cell_type": "markdown",
      "metadata": {
        "id": "u6DvA5yiu1g-"
      },
      "source": [
        "## Neural Network model"
      ]
    },
    {
      "cell_type": "code",
      "execution_count": 83,
      "metadata": {
        "colab": {
          "base_uri": "https://localhost:8080/"
        },
        "id": "SQKrzXfyuG_g",
        "outputId": "39705935-5c78-428a-c13e-4da9c47f983a"
      },
      "outputs": [
        {
          "name": "stdout",
          "output_type": "stream",
          "text": [
            "torch.Size([1, 1])\n"
          ]
        }
      ],
      "source": [
        "class CustomModel(nn.Module):\n",
        "    def __init__(self):\n",
        "        super(CustomModel, self).__init__()\n",
        "        self.fc1 = nn.Linear(768, 256)  # Input dimension: 768, Output dimension: 256\n",
        "        self.fc2 = nn.Linear(256, 128)  # Input dimension: 256, Output dimension: 128\n",
        "        self.fc3 = nn.Linear(128, 1)   # Input dimension: 128, Output dimension: 64\n",
        "\n",
        "    def forward(self, x):\n",
        "        x = self.fc1(x)\n",
        "        x = F.gelu(x)\n",
        "        x = self.fc2(x)\n",
        "        x = F.gelu(x)\n",
        "        x = self.fc3(x)\n",
        "        return x\n",
        "\n",
        "# Create an instance of the model\n",
        "model = CustomModel()\n",
        "\n",
        "# Example input tensor with 768 dimensions\n",
        "input_tensor = torch.randn(1, 768)  # Assuming batch size of 1\n",
        "\n",
        "# Pass the input tensor through the model\n",
        "output = model(input_tensor)\n",
        "print(output.shape)  # This will print the shape of the output tensor"
      ]
    },
    {
      "cell_type": "markdown",
      "metadata": {
        "id": "sW2bgNlsyLWD"
      },
      "source": [
        "#### Change type to torch and use gpu"
      ]
    },
    {
      "cell_type": "code",
      "execution_count": 84,
      "metadata": {
        "id": "m-iSUCw7xHik"
      },
      "outputs": [],
      "source": [
        "y_train_list = y_train.tolist()\n",
        "y_test_list = y_test.tolist()"
      ]
    },
    {
      "cell_type": "code",
      "execution_count": 85,
      "metadata": {
        "id": "u8U5LYoiwZnH"
      },
      "outputs": [],
      "source": [
        "X_train_nn = torch.tensor(X_train, device=device)\n",
        "X_test_nn = torch.tensor(X_test, device=device)\n",
        "y_train_nn = torch.tensor(y_train_list, device=device)\n",
        "y_test_nn = torch.tensor(y_test_list, device=device)"
      ]
    },
    {
      "cell_type": "markdown",
      "metadata": {
        "id": "yHxqmwTDv2Rv"
      },
      "source": [
        "#### Train loop"
      ]
    },
    {
      "cell_type": "code",
      "execution_count": 86,
      "metadata": {
        "id": "vjo1Lb4kCa_n"
      },
      "outputs": [],
      "source": [
        "# Change types\n",
        "y_train_nn = y_train_nn.to(torch.float16)\n",
        "y_train_nn = y_train_nn.view(-1, 1)\n",
        "y_test_nn = y_test_nn.to(torch.float16)\n",
        "y_test_nn = y_test_nn.view(-1, 1)"
      ]
    },
    {
      "cell_type": "code",
      "execution_count": 117,
      "metadata": {
        "id": "i-UnsKxOyWnN"
      },
      "outputs": [],
      "source": [
        "# Training loop\n",
        "def train_loop(model, optimizer, criterion, epochs,\n",
        "               X_train_nn, X_test_nn, y_train_nn, y_test_nn):\n",
        "    for epoch in range(1, epochs+1):\n",
        "        model.train()\n",
        "        optimizer.zero_grad()\n",
        "\n",
        "        # Forward pass\n",
        "        outputs = model(X_train_nn)\n",
        "\n",
        "        # Compute loss\n",
        "        loss = criterion(outputs, y_train_nn)\n",
        "\n",
        "        # Backward pass and optimize\n",
        "        loss.backward()\n",
        "        optimizer.step()\n",
        "        if epoch % 10 == 0 or epoch == 0:\n",
        "            with torch.no_grad():\n",
        "                val_outputs = model(X_test_nn)\n",
        "                val_loss = criterion(val_outputs, y_test_nn)\n",
        "            print(f'Epoch [{epoch}/{epochs}], Train Loss: {loss.item()}, Val loss: {val_loss}')\n",
        "\n",
        "    print('Training complete!')"
      ]
    },
    {
      "cell_type": "code",
      "execution_count": 119,
      "metadata": {
        "id": "YtRr115rxlyY"
      },
      "outputs": [],
      "source": [
        "# Create an instance of the model\n",
        "model = CustomModel()\n",
        "model = model.to(device)\n",
        "# Define binary cross-entropy loss and optimizer\n",
        "criterion = nn.BCEWithLogitsLoss()\n",
        "optimizer = optim.Adam(model.parameters(), lr=0.001)\n",
        "# Epochs number\n",
        "epochs = 250"
      ]
    },
    {
      "cell_type": "code",
      "execution_count": 120,
      "metadata": {
        "colab": {
          "base_uri": "https://localhost:8080/"
        },
        "id": "9l28M_WpCL2G",
        "outputId": "fe7d9ed6-52ac-4dbd-e3ed-74c5ecaeef07"
      },
      "outputs": [
        {
          "name": "stdout",
          "output_type": "stream",
          "text": [
            "Epoch [10/250], Train Loss: 0.11663818359375, Val loss: 0.110595703125\n",
            "Epoch [20/250], Train Loss: 0.0765380859375, Val loss: 0.06976318359375\n",
            "Epoch [30/250], Train Loss: 0.07489013671875, Val loss: 0.06927490234375\n",
            "Epoch [40/250], Train Loss: 0.0748291015625, Val loss: 0.068359375\n",
            "Epoch [50/250], Train Loss: 0.07391357421875, Val loss: 0.0692138671875\n",
            "Epoch [60/250], Train Loss: 0.0733642578125, Val loss: 0.06781005859375\n",
            "Epoch [70/250], Train Loss: 0.072998046875, Val loss: 0.06817626953125\n",
            "Epoch [80/250], Train Loss: 0.07275390625, Val loss: 0.067626953125\n",
            "Epoch [90/250], Train Loss: 0.07257080078125, Val loss: 0.0677490234375\n",
            "Epoch [100/250], Train Loss: 0.07232666015625, Val loss: 0.0673828125\n",
            "Epoch [110/250], Train Loss: 0.072021484375, Val loss: 0.06732177734375\n",
            "Epoch [120/250], Train Loss: 0.07177734375, Val loss: 0.06719970703125\n",
            "Epoch [130/250], Train Loss: 0.0714111328125, Val loss: 0.06689453125\n",
            "Epoch [140/250], Train Loss: 0.07098388671875, Val loss: 0.06671142578125\n",
            "Epoch [150/250], Train Loss: 0.07049560546875, Val loss: 0.06646728515625\n",
            "Epoch [160/250], Train Loss: 0.0699462890625, Val loss: 0.06622314453125\n",
            "Epoch [170/250], Train Loss: 0.0693359375, Val loss: 0.06597900390625\n",
            "Epoch [180/250], Train Loss: 0.06866455078125, Val loss: 0.06561279296875\n",
            "Epoch [190/250], Train Loss: 0.06805419921875, Val loss: 0.0654296875\n",
            "Epoch [200/250], Train Loss: 0.06744384765625, Val loss: 0.0653076171875\n",
            "Epoch [210/250], Train Loss: 0.06683349609375, Val loss: 0.06524658203125\n",
            "Epoch [220/250], Train Loss: 0.06634521484375, Val loss: 0.0650634765625\n",
            "Epoch [230/250], Train Loss: 0.0657958984375, Val loss: 0.06494140625\n",
            "Epoch [240/250], Train Loss: 0.065185546875, Val loss: 0.06463623046875\n",
            "Epoch [250/250], Train Loss: 0.0645751953125, Val loss: 0.064453125\n",
            "Training complete!\n"
          ]
        }
      ],
      "source": [
        "train_loop(model, optimizer, criterion, epochs,\n",
        "           X_train_nn, X_test_nn, y_train_nn, y_test_nn)"
      ]
    },
    {
      "cell_type": "markdown",
      "metadata": {
        "id": "R4AXE9iIIHfh"
      },
      "source": [
        "#### *Convert tensors and build confusion matrix for neural network*"
      ]
    },
    {
      "cell_type": "code",
      "execution_count": 112,
      "metadata": {
        "id": "-Tj3k-RgIjD0"
      },
      "outputs": [],
      "source": [
        "sigmoid_activation = torch.sigmoid"
      ]
    },
    {
      "cell_type": "code",
      "execution_count": 113,
      "metadata": {
        "id": "WM6YjSQrzAiP"
      },
      "outputs": [],
      "source": [
        "with torch.no_grad():\n",
        "    val_outputs = model(X_test_nn)\n",
        "    sigmoid_val_outputs = sigmoid_activation(val_outputs)\n",
        "    # Get numpy tensors\n",
        "    predicted_labels = (sigmoid_val_outputs.cpu().squeeze() > 0.5).numpy()"
      ]
    },
    {
      "cell_type": "code",
      "execution_count": 114,
      "metadata": {
        "colab": {
          "base_uri": "https://localhost:8080/"
        },
        "id": "LeuxnywSAJyV",
        "outputId": "d4a83e5d-5705-4eb7-cc7e-9d5dd545a467"
      },
      "outputs": [
        {
          "name": "stdout",
          "output_type": "stream",
          "text": [
            "                   precision    recall  f1-score   support\n",
            "\n",
            "non oscar winners       0.98      1.00      0.99      1775\n",
            "    oscar winners       0.00      0.00      0.00        30\n",
            "\n",
            "         accuracy                           0.98      1805\n",
            "        macro avg       0.49      0.50      0.50      1805\n",
            "     weighted avg       0.97      0.98      0.98      1805\n",
            "\n"
          ]
        },
        {
          "name": "stderr",
          "output_type": "stream",
          "text": [
            "/usr/local/lib/python3.10/dist-packages/sklearn/metrics/_classification.py:1344: UndefinedMetricWarning: Precision and F-score are ill-defined and being set to 0.0 in labels with no predicted samples. Use `zero_division` parameter to control this behavior.\n",
            "  _warn_prf(average, modifier, msg_start, len(result))\n",
            "/usr/local/lib/python3.10/dist-packages/sklearn/metrics/_classification.py:1344: UndefinedMetricWarning: Precision and F-score are ill-defined and being set to 0.0 in labels with no predicted samples. Use `zero_division` parameter to control this behavior.\n",
            "  _warn_prf(average, modifier, msg_start, len(result))\n",
            "/usr/local/lib/python3.10/dist-packages/sklearn/metrics/_classification.py:1344: UndefinedMetricWarning: Precision and F-score are ill-defined and being set to 0.0 in labels with no predicted samples. Use `zero_division` parameter to control this behavior.\n",
            "  _warn_prf(average, modifier, msg_start, len(result))\n"
          ]
        }
      ],
      "source": [
        "report = classification_report(y_test,predicted_labels,target_names=class_names)\n",
        "print(report)"
      ]
    },
    {
      "cell_type": "code",
      "execution_count": 115,
      "metadata": {
        "colab": {
          "base_uri": "https://localhost:8080/"
        },
        "id": "yAYFgdJ5IfDq",
        "outputId": "9acd7c82-204b-4112-e0b4-667d883e825a"
      },
      "outputs": [
        {
          "data": {
            "text/plain": [
              "array([[1775,    0],\n",
              "       [  30,    0]])"
            ]
          },
          "execution_count": 115,
          "metadata": {},
          "output_type": "execute_result"
        }
      ],
      "source": [
        "cm = confusion_matrix(y_test, predicted_labels)\n",
        "cm"
      ]
    },
    {
      "cell_type": "markdown",
      "metadata": {
        "id": "haoyYpfvAVtw"
      },
      "source": [
        "#### As we can see the result is too poor for both models, which was caused by poor data for oscar winners labels. Let's try artifically upgrade data"
      ]
    },
    {
      "cell_type": "markdown",
      "metadata": {
        "id": "4KJ3KhFmLxKg"
      },
      "source": [
        "# Upgrade dataset"
      ]
    },
    {
      "cell_type": "markdown",
      "metadata": {
        "id": "bHp4TG_uL2O3"
      },
      "source": [
        "#### As we can see both models are struggle to predict film that wins oscar. First issue - lack text embeddings for oscar winners. Let's try to solve this by artificially expanding dataset"
      ]
    },
    {
      "cell_type": "code",
      "execution_count": 99,
      "metadata": {
        "id": "jgPZsox1Lrv-"
      },
      "outputs": [],
      "source": [
        "# Uncomment if you wanna load data again\n",
        "# with open('/content/drive/MyDrive/project/embeddings/mean_for_batch.pkl', 'rb') as file:\n",
        "#     embedding_list = pickle.load(file)\n",
        "\n",
        "# numpy_embedding_list = [t_embed.detach().cpu().numpy() for t_embed in embedding_list]\n",
        "# numpy_embedding_list = np.array(numpy_embedding_list)\n",
        "# X_train, X_test, y_train, y_test = train_test_split(numpy_embedding_list ,df['oscar_win'], test_size=0.15)"
      ]
    },
    {
      "cell_type": "code",
      "execution_count": 100,
      "metadata": {
        "colab": {
          "base_uri": "https://localhost:8080/"
        },
        "id": "G_ox-Rv5PLzY",
        "outputId": "f0aa7a0f-bb97-4941-ceb8-eb2f211bc0b0"
      },
      "outputs": [
        {
          "name": "stdout",
          "output_type": "stream",
          "text": [
            "Before SMOTE Counter({0: 10037, 1: 187})\n",
            "After SMOTE Counter({0: 10037, 1: 10037})\n"
          ]
        }
      ],
      "source": [
        "# Generate synthetic samples for the minority class using SMOTE\n",
        "counter = Counter(y_train)\n",
        "print(\"Before SMOTE\", counter)\n",
        "\n",
        "smote = SMOTE(sampling_strategy='auto', random_state=42)\n",
        "X_train_synthetic, y_train_synthetic = smote.fit_resample(X_train, y_train)\n",
        "\n",
        "counter_synthetic = Counter(y_train_synthetic)\n",
        "print(\"After SMOTE\", counter_synthetic)"
      ]
    },
    {
      "cell_type": "markdown",
      "metadata": {
        "id": "X8oZ2hiFE7E7"
      },
      "source": [
        "#### Do the same for the test split (we will use it for neural network validation, control test would be just on X_test and y_test without wynthetic data)"
      ]
    },
    {
      "cell_type": "code",
      "execution_count": 131,
      "metadata": {
        "colab": {
          "base_uri": "https://localhost:8080/"
        },
        "id": "L97saBbdE6qc",
        "outputId": "c2f44136-c9e4-48ca-bf99-5ec7982877a2"
      },
      "outputs": [
        {
          "name": "stdout",
          "output_type": "stream",
          "text": [
            "Before SMOTE Counter({0: 1775, 1: 30})\n",
            "After SMOTE Counter({0: 1775, 1: 1775})\n"
          ]
        }
      ],
      "source": [
        "counter = Counter(y_test)\n",
        "print(\"Before SMOTE\", counter)\n",
        "\n",
        "smote = SMOTE(sampling_strategy='auto', random_state=42)\n",
        "X_test_synthetic, y_test_synthetic = smote.fit_resample(X_test, y_test)\n",
        "\n",
        "counter_synthetic = Counter(y_test_synthetic)\n",
        "print(\"After SMOTE\", counter_synthetic)"
      ]
    },
    {
      "cell_type": "markdown",
      "metadata": {
        "id": "Wdm2nwPbR1SC"
      },
      "source": [
        "# Let's try again SVM and neural network models"
      ]
    },
    {
      "cell_type": "markdown",
      "metadata": {
        "id": "KbZ30baISp9J"
      },
      "source": [
        "#### SVM model"
      ]
    },
    {
      "cell_type": "code",
      "execution_count": 101,
      "metadata": {
        "colab": {
          "base_uri": "https://localhost:8080/",
          "height": 74
        },
        "id": "bCMq4nIRPe4I",
        "outputId": "39e663e6-09dc-455a-bfb9-91a2ef1e3871"
      },
      "outputs": [
        {
          "data": {
            "text/html": [
              "<style>#sk-container-id-4 {color: black;background-color: white;}#sk-container-id-4 pre{padding: 0;}#sk-container-id-4 div.sk-toggleable {background-color: white;}#sk-container-id-4 label.sk-toggleable__label {cursor: pointer;display: block;width: 100%;margin-bottom: 0;padding: 0.3em;box-sizing: border-box;text-align: center;}#sk-container-id-4 label.sk-toggleable__label-arrow:before {content: \"▸\";float: left;margin-right: 0.25em;color: #696969;}#sk-container-id-4 label.sk-toggleable__label-arrow:hover:before {color: black;}#sk-container-id-4 div.sk-estimator:hover label.sk-toggleable__label-arrow:before {color: black;}#sk-container-id-4 div.sk-toggleable__content {max-height: 0;max-width: 0;overflow: hidden;text-align: left;background-color: #f0f8ff;}#sk-container-id-4 div.sk-toggleable__content pre {margin: 0.2em;color: black;border-radius: 0.25em;background-color: #f0f8ff;}#sk-container-id-4 input.sk-toggleable__control:checked~div.sk-toggleable__content {max-height: 200px;max-width: 100%;overflow: auto;}#sk-container-id-4 input.sk-toggleable__control:checked~label.sk-toggleable__label-arrow:before {content: \"▾\";}#sk-container-id-4 div.sk-estimator input.sk-toggleable__control:checked~label.sk-toggleable__label {background-color: #d4ebff;}#sk-container-id-4 div.sk-label input.sk-toggleable__control:checked~label.sk-toggleable__label {background-color: #d4ebff;}#sk-container-id-4 input.sk-hidden--visually {border: 0;clip: rect(1px 1px 1px 1px);clip: rect(1px, 1px, 1px, 1px);height: 1px;margin: -1px;overflow: hidden;padding: 0;position: absolute;width: 1px;}#sk-container-id-4 div.sk-estimator {font-family: monospace;background-color: #f0f8ff;border: 1px dotted black;border-radius: 0.25em;box-sizing: border-box;margin-bottom: 0.5em;}#sk-container-id-4 div.sk-estimator:hover {background-color: #d4ebff;}#sk-container-id-4 div.sk-parallel-item::after {content: \"\";width: 100%;border-bottom: 1px solid gray;flex-grow: 1;}#sk-container-id-4 div.sk-label:hover label.sk-toggleable__label {background-color: #d4ebff;}#sk-container-id-4 div.sk-serial::before {content: \"\";position: absolute;border-left: 1px solid gray;box-sizing: border-box;top: 0;bottom: 0;left: 50%;z-index: 0;}#sk-container-id-4 div.sk-serial {display: flex;flex-direction: column;align-items: center;background-color: white;padding-right: 0.2em;padding-left: 0.2em;position: relative;}#sk-container-id-4 div.sk-item {position: relative;z-index: 1;}#sk-container-id-4 div.sk-parallel {display: flex;align-items: stretch;justify-content: center;background-color: white;position: relative;}#sk-container-id-4 div.sk-item::before, #sk-container-id-4 div.sk-parallel-item::before {content: \"\";position: absolute;border-left: 1px solid gray;box-sizing: border-box;top: 0;bottom: 0;left: 50%;z-index: -1;}#sk-container-id-4 div.sk-parallel-item {display: flex;flex-direction: column;z-index: 1;position: relative;background-color: white;}#sk-container-id-4 div.sk-parallel-item:first-child::after {align-self: flex-end;width: 50%;}#sk-container-id-4 div.sk-parallel-item:last-child::after {align-self: flex-start;width: 50%;}#sk-container-id-4 div.sk-parallel-item:only-child::after {width: 0;}#sk-container-id-4 div.sk-dashed-wrapped {border: 1px dashed gray;margin: 0 0.4em 0.5em 0.4em;box-sizing: border-box;padding-bottom: 0.4em;background-color: white;}#sk-container-id-4 div.sk-label label {font-family: monospace;font-weight: bold;display: inline-block;line-height: 1.2em;}#sk-container-id-4 div.sk-label-container {text-align: center;}#sk-container-id-4 div.sk-container {/* jupyter's `normalize.less` sets `[hidden] { display: none; }` but bootstrap.min.css set `[hidden] { display: none !important; }` so we also need the `!important` here to be able to override the default hidden behavior on the sphinx rendered scikit-learn.org. See: https://github.com/scikit-learn/scikit-learn/issues/21755 */display: inline-block !important;position: relative;}#sk-container-id-4 div.sk-text-repr-fallback {display: none;}</style><div id=\"sk-container-id-4\" class=\"sk-top-container\"><div class=\"sk-text-repr-fallback\"><pre>SVC(random_state=101)</pre><b>In a Jupyter environment, please rerun this cell to show the HTML representation or trust the notebook. <br />On GitHub, the HTML representation is unable to render, please try loading this page with nbviewer.org.</b></div><div class=\"sk-container\" hidden><div class=\"sk-item\"><div class=\"sk-estimator sk-toggleable\"><input class=\"sk-toggleable__control sk-hidden--visually\" id=\"sk-estimator-id-4\" type=\"checkbox\" checked><label for=\"sk-estimator-id-4\" class=\"sk-toggleable__label sk-toggleable__label-arrow\">SVC</label><div class=\"sk-toggleable__content\"><pre>SVC(random_state=101)</pre></div></div></div></div></div>"
            ],
            "text/plain": [
              "SVC(random_state=101)"
            ]
          },
          "execution_count": 101,
          "metadata": {},
          "output_type": "execute_result"
        }
      ],
      "source": [
        "svc = SVC(random_state=101)\n",
        "svc.fit(X_train_synthetic, y_train_synthetic)"
      ]
    },
    {
      "cell_type": "code",
      "execution_count": 102,
      "metadata": {
        "colab": {
          "base_uri": "https://localhost:8080/",
          "height": 1000
        },
        "id": "NYzAwflcSGB_",
        "outputId": "7c80ae09-8a27-4abd-f13e-6f78393205b6"
      },
      "outputs": [
        {
          "name": "stdout",
          "output_type": "stream",
          "text": [
            "Confusion matrix, without normalization\n",
            "[[1434  341]\n",
            " [   2   28]]\n",
            "Normalized confusion matrix\n",
            "[[0.81 0.19]\n",
            " [0.07 0.93]]\n"
          ]
        },
        {
          "data": {
            "image/png": "[encoded data removed]",
            "text/plain": [
              "<Figure size 640x480 with 2 Axes>"
            ]
          },
          "metadata": {},
          "output_type": "display_data"
        },
        {
          "data": {
            "image/png": "[encoded data removed]",
            "text/plain": [
              "<Figure size 640x480 with 2 Axes>"
            ]
          },
          "metadata": {},
          "output_type": "display_data"
        }
      ],
      "source": [
        "display_confusion_matrix(model=svc,\n",
        "                         X_test=X_test,\n",
        "                         y_test=y_test,\n",
        "                         class_names=class_names)"
      ]
    },
    {
      "cell_type": "code",
      "execution_count": 103,
      "metadata": {
        "colab": {
          "base_uri": "https://localhost:8080/"
        },
        "id": "d4Zd9rm_SbJb",
        "outputId": "2837c37f-6689-40e4-a6d6-ff784a6e450b"
      },
      "outputs": [
        {
          "data": {
            "text/plain": [
              "0.8099722991689751"
            ]
          },
          "execution_count": 103,
          "metadata": {},
          "output_type": "execute_result"
        }
      ],
      "source": [
        "y_pred = svc.predict(X_test)\n",
        "acc_score = accuracy_score(y_test, y_pred)\n",
        "acc_score"
      ]
    },
    {
      "cell_type": "code",
      "execution_count": 104,
      "metadata": {
        "colab": {
          "base_uri": "https://localhost:8080/"
        },
        "id": "jdcXI__TSfic",
        "outputId": "034c3660-a478-4de1-d651-eb3c0011a4f1"
      },
      "outputs": [
        {
          "name": "stdout",
          "output_type": "stream",
          "text": [
            "                   precision    recall  f1-score   support\n",
            "\n",
            "non oscar winners       1.00      0.81      0.89      1775\n",
            "    oscar winners       0.08      0.93      0.14        30\n",
            "\n",
            "         accuracy                           0.81      1805\n",
            "        macro avg       0.54      0.87      0.52      1805\n",
            "     weighted avg       0.98      0.81      0.88      1805\n",
            "\n"
          ]
        }
      ],
      "source": [
        "report = classification_report(y_test,y_pred,target_names=class_names)\n",
        "print(report)"
      ]
    },
    {
      "cell_type": "markdown",
      "metadata": {
        "id": "Fft07BL4SsiU"
      },
      "source": [
        "#### Linear model"
      ]
    },
    {
      "cell_type": "code",
      "execution_count": 132,
      "metadata": {
        "id": "FlpapVWzD8gZ"
      },
      "outputs": [],
      "source": [
        "# Convert synthetic data\n",
        "X_train_synthetic_nn = torch.tensor(X_train_synthetic, device=device)\n",
        "X_test_synthetic_nn = torch.tensor(X_test_synthetic, device=device)\n",
        "y_train_synthetic_nn = torch.tensor(y_train_synthetic, device=device)\n",
        "y_test_synthetic_nn = torch.tensor(y_test_synthetic, device=device)\n",
        "# Reshape\n",
        "y_train_synthetic_nn = y_train_synthetic_nn.to(torch.float16)\n",
        "y_train_synthetic_nn = y_train_synthetic_nn.view(-1, 1)\n",
        "y_test_synthetic_nn = y_test_synthetic_nn.to(torch.float16)\n",
        "y_test_synthetic_nn = y_test_synthetic_nn.view(-1, 1)"
      ]
    },
    {
      "cell_type": "code",
      "execution_count": 167,
      "metadata": {
        "id": "JUS1cTJUSyGC"
      },
      "outputs": [],
      "source": [
        "# Create an instance of the model\n",
        "model = CustomModel()\n",
        "model = model.to(device)\n",
        "# Define binary cross-entropy loss and optimizer\n",
        "criterion = nn.BCEWithLogitsLoss()\n",
        "optimizer = optim.Adam(model.parameters(), lr=0.001)\n",
        "# Epochs number\n",
        "epochs = 260"
      ]
    },
    {
      "cell_type": "code",
      "execution_count": 168,
      "metadata": {
        "colab": {
          "base_uri": "https://localhost:8080/"
        },
        "id": "5vL71dCrD7Ri",
        "outputId": "fcb8b596-cdfe-41ac-a4dc-e84ed7c39322"
      },
      "outputs": [
        {
          "name": "stdout",
          "output_type": "stream",
          "text": [
            "Epoch [10/260], Train Loss: 0.44384765625, Val loss: 0.4775390625\n",
            "Epoch [20/260], Train Loss: 0.42333984375, Val loss: 0.45263671875\n",
            "Epoch [30/260], Train Loss: 0.408203125, Val loss: 0.449462890625\n",
            "Epoch [40/260], Train Loss: 0.390869140625, Val loss: 0.4501953125\n",
            "Epoch [50/260], Train Loss: 0.365234375, Val loss: 0.43701171875\n",
            "Epoch [60/260], Train Loss: 0.339111328125, Val loss: 0.42724609375\n",
            "Epoch [70/260], Train Loss: 0.322021484375, Val loss: 0.368896484375\n",
            "Epoch [80/260], Train Loss: 0.315673828125, Val loss: 0.44580078125\n",
            "Epoch [90/260], Train Loss: 0.298095703125, Val loss: 0.437255859375\n",
            "Epoch [100/260], Train Loss: 0.28857421875, Val loss: 0.410400390625\n",
            "Epoch [110/260], Train Loss: 0.283203125, Val loss: 0.36865234375\n",
            "Epoch [120/260], Train Loss: 0.286376953125, Val loss: 0.30224609375\n",
            "Epoch [130/260], Train Loss: 0.26416015625, Val loss: 0.406982421875\n",
            "Epoch [140/260], Train Loss: 0.25537109375, Val loss: 0.37451171875\n",
            "Epoch [150/260], Train Loss: 0.24951171875, Val loss: 0.31640625\n",
            "Epoch [160/260], Train Loss: 0.2406005859375, Val loss: 0.286376953125\n",
            "Epoch [170/260], Train Loss: 0.338623046875, Val loss: 0.560546875\n",
            "Epoch [180/260], Train Loss: 0.361328125, Val loss: 0.59326171875\n",
            "Epoch [190/260], Train Loss: 0.317626953125, Val loss: 0.331298828125\n",
            "Epoch [200/260], Train Loss: 0.2445068359375, Val loss: 0.26513671875\n",
            "Epoch [210/260], Train Loss: 0.242919921875, Val loss: 0.35302734375\n",
            "Epoch [220/260], Train Loss: 0.2314453125, Val loss: 0.336181640625\n",
            "Epoch [230/260], Train Loss: 0.2232666015625, Val loss: 0.303955078125\n",
            "Epoch [240/260], Train Loss: 0.218017578125, Val loss: 0.307861328125\n",
            "Epoch [250/260], Train Loss: 0.2130126953125, Val loss: 0.313232421875\n",
            "Epoch [260/260], Train Loss: 0.2080078125, Val loss: 0.31494140625\n",
            "Training complete!\n"
          ]
        }
      ],
      "source": [
        "train_loop(model, optimizer, criterion, epochs,\n",
        "           X_train_synthetic_nn, X_test_nn, y_train_synthetic_nn, y_test_nn)"
      ]
    },
    {
      "cell_type": "code",
      "execution_count": 169,
      "metadata": {
        "id": "0FqsqOyKF_76"
      },
      "outputs": [],
      "source": [
        "# Uncomment this if you wanna check X_test_synthetic validation loss\n",
        "# train_loop(model, optimizer, criterion, epochs,\n",
        "#            X_train_synthetic_nn, X_test_synthetic_nn, y_train_synthetic_nn, y_test_synthetic_nn)"
      ]
    },
    {
      "cell_type": "code",
      "execution_count": 170,
      "metadata": {
        "id": "OeT4FZqVEFhZ"
      },
      "outputs": [],
      "source": [
        "with torch.no_grad():\n",
        "    val_outputs = model(X_test_nn)\n",
        "    sigmoid_val_outputs = sigmoid_activation(val_outputs)\n",
        "    # Get numpy tensors\n",
        "    predicted_labels = (sigmoid_val_outputs.cpu().squeeze() > 0.5).numpy()"
      ]
    },
    {
      "cell_type": "code",
      "execution_count": 171,
      "metadata": {
        "colab": {
          "base_uri": "https://localhost:8080/"
        },
        "id": "5I933XWVG54E",
        "outputId": "30aebe85-fba1-44c7-c78d-abf2aff58d95"
      },
      "outputs": [
        {
          "name": "stdout",
          "output_type": "stream",
          "text": [
            "                   precision    recall  f1-score   support\n",
            "\n",
            "non oscar winners       1.00      0.85      0.92      1775\n",
            "    oscar winners       0.08      0.80      0.15        30\n",
            "\n",
            "         accuracy                           0.85      1805\n",
            "        macro avg       0.54      0.82      0.53      1805\n",
            "     weighted avg       0.98      0.85      0.90      1805\n",
            "\n"
          ]
        }
      ],
      "source": [
        "report = classification_report(y_test,predicted_labels,target_names=class_names)\n",
        "print(report)"
      ]
    },
    {
      "cell_type": "code",
      "execution_count": 172,
      "metadata": {
        "colab": {
          "base_uri": "https://localhost:8080/"
        },
        "id": "qQW_2xudG-cC",
        "outputId": "023734ff-db7c-46a4-bd77-98cd38b244cd"
      },
      "outputs": [
        {
          "data": {
            "text/plain": [
              "array([[1506,  269],\n",
              "       [   6,   24]])"
            ]
          },
          "execution_count": 172,
          "metadata": {},
          "output_type": "execute_result"
        }
      ],
      "source": [
        "cm = confusion_matrix(y_test, predicted_labels)\n",
        "cm"
      ]
    },
    {
      "cell_type": "markdown",
      "metadata": {
        "id": "H8jpATJ8H00O"
      },
      "source": [
        "#### As we can see SVM is better when we augmented data with SMOTE. Let's try artifically expand both classes - non-winners and winners by adding same embedding as a new data but with a bit of noise"
      ]
    },
    {
      "cell_type": "code",
      "execution_count": 189,
      "metadata": {
        "colab": {
          "base_uri": "https://localhost:8080/"
        },
        "id": "rnSwbgdWIYA1",
        "outputId": "9c1d9117-2281-4ba8-b4df-b9e211ff7e99"
      },
      "outputs": [
        {
          "name": "stdout",
          "output_type": "stream",
          "text": [
            "Mean X_train -  -0.016891856\n",
            "Variance X_train -  0.16534983\n",
            "Standard deviation X_train -  0.4066323\n"
          ]
        }
      ],
      "source": [
        "mean_train = np.mean(X_train_synthetic)\n",
        "var_train = np.var(X_train_synthetic)\n",
        "std_train = np.std(X_train_synthetic)\n",
        "\n",
        "print(\"Mean X_train - \", mean_train)\n",
        "print(\"Variance X_train - \", var_train)\n",
        "print(\"Standard deviation X_train - \", std_train)"
      ]
    },
    {
      "cell_type": "code",
      "execution_count": 190,
      "metadata": {
        "id": "Ms78f4pVMm6C"
      },
      "outputs": [],
      "source": [
        "X_new_train = np.random.normal(mean_train, std_train, X_train_synthetic.shape)"
      ]
    },
    {
      "cell_type": "code",
      "execution_count": 191,
      "metadata": {
        "colab": {
          "base_uri": "https://localhost:8080/"
        },
        "id": "po4wmNnONtBH",
        "outputId": "cde1b35c-e0f4-4092-aa27-336d38f92e31"
      },
      "outputs": [
        {
          "name": "stdout",
          "output_type": "stream",
          "text": [
            "New mean X_train -  -0.016885494309898927\n",
            "New variance X_train -  0.16533554331306027\n",
            "New standard deviation X_train -  0.4066147357303474\n"
          ]
        }
      ],
      "source": [
        "new_mean_train = np.mean(X_new_train)\n",
        "new_var_train = np.var(X_new_train)\n",
        "new_std_train = np.std(X_new_train)\n",
        "\n",
        "print(\"New mean X_train - \", new_mean_train)\n",
        "print(\"New variance X_train - \", new_var_train)\n",
        "print(\"New standard deviation X_train - \", new_std_train)"
      ]
    },
    {
      "cell_type": "code",
      "execution_count": 200,
      "metadata": {
        "id": "gWUCc2mEPTJn"
      },
      "outputs": [],
      "source": [
        "X_train_synthetic_increased = copy.deepcopy(X_train_synthetic)"
      ]
    },
    {
      "cell_type": "code",
      "execution_count": 201,
      "metadata": {
        "id": "PWvtKWeCOeXP"
      },
      "outputs": [],
      "source": [
        "multiplyer_inc_data = 10\n",
        "for i in range(multiplyer_inc_data - 1):\n",
        "    X_new_train_synthetic = np.random.normal(mean_train, std_train, X_train_synthetic.shape)\n",
        "\n",
        "    X_train_synthetic_increased = np.concatenate((X_train_synthetic_increased, X_new_train_synthetic), axis=0)"
      ]
    },
    {
      "cell_type": "code",
      "execution_count": 202,
      "metadata": {
        "colab": {
          "base_uri": "https://localhost:8080/"
        },
        "id": "W02eKGmKJJOo",
        "outputId": "463af7aa-3329-4404-8695-b4f39f99b484"
      },
      "outputs": [
        {
          "data": {
            "text/plain": [
              "(10, 20074, 768)"
            ]
          },
          "execution_count": 202,
          "metadata": {},
          "output_type": "execute_result"
        }
      ],
      "source": [
        "X_train_synthetic_increased = X_train_synthetic_increased.reshape(-1, X_train_synthetic.shape[0], X_train_synthetic.shape[1])\n",
        "X_train_synthetic_increased.shape"
      ]
    },
    {
      "cell_type": "code",
      "execution_count": null,
      "metadata": {
        "id": "KeRFz2r_P2kp"
      },
      "outputs": [],
      "source": [
        "# Convert synthetic data\n",
        "X_train_synthetic_nn = torch.tensor(X_train_synthetic, device=device)\n",
        "X_test_synthetic_nn = torch.tensor(X_test_synthetic, device=device)\n",
        "y_train_synthetic_nn = torch.tensor(y_train_synthetic, device=device)\n",
        "y_test_synthetic_nn = torch.tensor(y_test_synthetic, device=device)\n",
        "# Reshape\n",
        "y_train_synthetic_nn = y_train_synthetic_nn.to(torch.float16)\n",
        "y_train_synthetic_nn = y_train_synthetic_nn.view(-1, 1)\n",
        "y_test_synthetic_nn = y_test_synthetic_nn.to(torch.float16)\n",
        "y_test_synthetic_nn = y_test_synthetic_nn.view(-1, 1)\n",
        "# Create an instance of the model\n",
        "model = CustomModel()\n",
        "model = model.to(device)\n",
        "# Define binary cross-entropy loss and optimizer\n",
        "criterion = nn.BCEWithLogitsLoss()\n",
        "optimizer = optim.Adam(model.parameters(), lr=0.001)\n",
        "# Epochs number\n",
        "epochs = 260\n",
        "train_loop(model, optimizer, criterion, epochs,\n",
        "           X_train_synthetic_nn, X_test_nn, y_train_synthetic_nn, y_test_nn)"
      ]
    }
  ],
  "metadata": {
    "accelerator": "GPU",
    "colab": {
      "gpuType": "T4",
      "provenance": []
    },
    "kernelspec": {
      "display_name": "Python 3",
      "name": "python3"
    },
    "language_info": {
      "name": "python"
    },
    "widgets": {
      "application/vnd.jupyter.widget-state+json": {
        "04dd9444d4664e25a5f3e410d1076abc": {
          "model_module": "@jupyter-widgets/base",
          "model_module_version": "1.2.0",
          "model_name": "LayoutModel",
          "state": {
            "_model_module": "@jupyter-widgets/base",
            "_model_module_version": "1.2.0",
            "_model_name": "LayoutModel",
            "_view_count": null,
            "_view_module": "@jupyter-widgets/base",
            "_view_module_version": "1.2.0",
            "_view_name": "LayoutView",
            "align_content": null,
            "align_items": null,
            "align_self": null,
            "border": null,
            "bottom": null,
            "display": null,
            "flex": null,
            "flex_flow": null,
            "grid_area": null,
            "grid_auto_columns": null,
            "grid_auto_flow": null,
            "grid_auto_rows": null,
            "grid_column": null,
            "grid_gap": null,
            "grid_row": null,
            "grid_template_areas": null,
            "grid_template_columns": null,
            "grid_template_rows": null,
            "height": null,
            "justify_content": null,
            "justify_items": null,
            "left": null,
            "margin": null,
            "max_height": null,
            "max_width": null,
            "min_height": null,
            "min_width": null,
            "object_fit": null,
            "object_position": null,
            "order": null,
            "overflow": null,
            "overflow_x": null,
            "overflow_y": null,
            "padding": null,
            "right": null,
            "top": null,
            "visibility": null,
            "width": null
          }
        },
        "078b910f5ee24542b797c1cfc2991d96": {
          "model_module": "@jupyter-widgets/base",
          "model_module_version": "1.2.0",
          "model_name": "LayoutModel",
          "state": {
            "_model_module": "@jupyter-widgets/base",
            "_model_module_version": "1.2.0",
            "_model_name": "LayoutModel",
            "_view_count": null,
            "_view_module": "@jupyter-widgets/base",
            "_view_module_version": "1.2.0",
            "_view_name": "LayoutView",
            "align_content": null,
            "align_items": null,
            "align_self": null,
            "border": null,
            "bottom": null,
            "display": null,
            "flex": null,
            "flex_flow": null,
            "grid_area": null,
            "grid_auto_columns": null,
            "grid_auto_flow": null,
            "grid_auto_rows": null,
            "grid_column": null,
            "grid_gap": null,
            "grid_row": null,
            "grid_template_areas": null,
            "grid_template_columns": null,
            "grid_template_rows": null,
            "height": null,
            "justify_content": null,
            "justify_items": null,
            "left": null,
            "margin": null,
            "max_height": null,
            "max_width": null,
            "min_height": null,
            "min_width": null,
            "object_fit": null,
            "object_position": null,
            "order": null,
            "overflow": null,
            "overflow_x": null,
            "overflow_y": null,
            "padding": null,
            "right": null,
            "top": null,
            "visibility": null,
            "width": null
          }
        },
        "0fa72058453e44f0ba1b4de4f4432411": {
          "model_module": "@jupyter-widgets/base",
          "model_module_version": "1.2.0",
          "model_name": "LayoutModel",
          "state": {
            "_model_module": "@jupyter-widgets/base",
            "_model_module_version": "1.2.0",
            "_model_name": "LayoutModel",
            "_view_count": null,
            "_view_module": "@jupyter-widgets/base",
            "_view_module_version": "1.2.0",
            "_view_name": "LayoutView",
            "align_content": null,
            "align_items": null,
            "align_self": null,
            "border": null,
            "bottom": null,
            "display": null,
            "flex": null,
            "flex_flow": null,
            "grid_area": null,
            "grid_auto_columns": null,
            "grid_auto_flow": null,
            "grid_auto_rows": null,
            "grid_column": null,
            "grid_gap": null,
            "grid_row": null,
            "grid_template_areas": null,
            "grid_template_columns": null,
            "grid_template_rows": null,
            "height": null,
            "justify_content": null,
            "justify_items": null,
            "left": null,
            "margin": null,
            "max_height": null,
            "max_width": null,
            "min_height": null,
            "min_width": null,
            "object_fit": null,
            "object_position": null,
            "order": null,
            "overflow": null,
            "overflow_x": null,
            "overflow_y": null,
            "padding": null,
            "right": null,
            "top": null,
            "visibility": null,
            "width": null
          }
        },
        "12fad7de5b2541df92787eb6f05961d1": {
          "model_module": "@jupyter-widgets/controls",
          "model_module_version": "1.5.0",
          "model_name": "HTMLModel",
          "state": {
            "_dom_classes": [],
            "_model_module": "@jupyter-widgets/controls",
            "_model_module_version": "1.5.0",
            "_model_name": "HTMLModel",
            "_view_count": null,
            "_view_module": "@jupyter-widgets/controls",
            "_view_module_version": "1.5.0",
            "_view_name": "HTMLView",
            "description": "",
            "description_tooltip": null,
            "layout": "IPY_MODEL_856edc4404d1492197393d121c32caf9",
            "placeholder": "​",
            "style": "IPY_MODEL_af1187e596444affbaa17fb9b044cac7",
            "value": " 268M/268M [00:01&lt;00:00, 224MB/s]"
          }
        },
        "181e5ebcfc82471b97aacd1c99aa8c7a": {
          "model_module": "@jupyter-widgets/base",
          "model_module_version": "1.2.0",
          "model_name": "LayoutModel",
          "state": {
            "_model_module": "@jupyter-widgets/base",
            "_model_module_version": "1.2.0",
            "_model_name": "LayoutModel",
            "_view_count": null,
            "_view_module": "@jupyter-widgets/base",
            "_view_module_version": "1.2.0",
            "_view_name": "LayoutView",
            "align_content": null,
            "align_items": null,
            "align_self": null,
            "border": null,
            "bottom": null,
            "display": null,
            "flex": null,
            "flex_flow": null,
            "grid_area": null,
            "grid_auto_columns": null,
            "grid_auto_flow": null,
            "grid_auto_rows": null,
            "grid_column": null,
            "grid_gap": null,
            "grid_row": null,
            "grid_template_areas": null,
            "grid_template_columns": null,
            "grid_template_rows": null,
            "height": null,
            "justify_content": null,
            "justify_items": null,
            "left": null,
            "margin": null,
            "max_height": null,
            "max_width": null,
            "min_height": null,
            "min_width": null,
            "object_fit": null,
            "object_position": null,
            "order": null,
            "overflow": null,
            "overflow_x": null,
            "overflow_y": null,
            "padding": null,
            "right": null,
            "top": null,
            "visibility": null,
            "width": null
          }
        },
        "188226a85c4444dca7dd67e27d9b197e": {
          "model_module": "@jupyter-widgets/controls",
          "model_module_version": "1.5.0",
          "model_name": "HTMLModel",
          "state": {
            "_dom_classes": [],
            "_model_module": "@jupyter-widgets/controls",
            "_model_module_version": "1.5.0",
            "_model_name": "HTMLModel",
            "_view_count": null,
            "_view_module": "@jupyter-widgets/controls",
            "_view_module_version": "1.5.0",
            "_view_name": "HTMLView",
            "description": "",
            "description_tooltip": null,
            "layout": "IPY_MODEL_dc9a4c452cee4ca49cfd798cf568f125",
            "placeholder": "​",
            "style": "IPY_MODEL_991de7ddbe4a4c8f8234b07d07aba26a",
            "value": " 48.0/48.0 [00:00&lt;00:00, 755B/s]"
          }
        },
        "19a80452dfa54bc28e277c92d53d5c19": {
          "model_module": "@jupyter-widgets/controls",
          "model_module_version": "1.5.0",
          "model_name": "ProgressStyleModel",
          "state": {
            "_model_module": "@jupyter-widgets/controls",
            "_model_module_version": "1.5.0",
            "_model_name": "ProgressStyleModel",
            "_view_count": null,
            "_view_module": "@jupyter-widgets/base",
            "_view_module_version": "1.2.0",
            "_view_name": "StyleView",
            "bar_color": null,
            "description_width": ""
          }
        },
        "22596b94a8fb4695b43d6b4889d14e3a": {
          "model_module": "@jupyter-widgets/base",
          "model_module_version": "1.2.0",
          "model_name": "LayoutModel",
          "state": {
            "_model_module": "@jupyter-widgets/base",
            "_model_module_version": "1.2.0",
            "_model_name": "LayoutModel",
            "_view_count": null,
            "_view_module": "@jupyter-widgets/base",
            "_view_module_version": "1.2.0",
            "_view_name": "LayoutView",
            "align_content": null,
            "align_items": null,
            "align_self": null,
            "border": null,
            "bottom": null,
            "display": null,
            "flex": null,
            "flex_flow": null,
            "grid_area": null,
            "grid_auto_columns": null,
            "grid_auto_flow": null,
            "grid_auto_rows": null,
            "grid_column": null,
            "grid_gap": null,
            "grid_row": null,
            "grid_template_areas": null,
            "grid_template_columns": null,
            "grid_template_rows": null,
            "height": null,
            "justify_content": null,
            "justify_items": null,
            "left": null,
            "margin": null,
            "max_height": null,
            "max_width": null,
            "min_height": null,
            "min_width": null,
            "object_fit": null,
            "object_position": null,
            "order": null,
            "overflow": null,
            "overflow_x": null,
            "overflow_y": null,
            "padding": null,
            "right": null,
            "top": null,
            "visibility": null,
            "width": null
          }
        },
        "3232e3c782024292bac2f2e6edf678dc": {
          "model_module": "@jupyter-widgets/controls",
          "model_module_version": "1.5.0",
          "model_name": "ProgressStyleModel",
          "state": {
            "_model_module": "@jupyter-widgets/controls",
            "_model_module_version": "1.5.0",
            "_model_name": "ProgressStyleModel",
            "_view_count": null,
            "_view_module": "@jupyter-widgets/base",
            "_view_module_version": "1.2.0",
            "_view_name": "StyleView",
            "bar_color": null,
            "description_width": ""
          }
        },
        "39a042b85f0d4508b24fc236a51ce7d8": {
          "model_module": "@jupyter-widgets/controls",
          "model_module_version": "1.5.0",
          "model_name": "FloatProgressModel",
          "state": {
            "_dom_classes": [],
            "_model_module": "@jupyter-widgets/controls",
            "_model_module_version": "1.5.0",
            "_model_name": "FloatProgressModel",
            "_view_count": null,
            "_view_module": "@jupyter-widgets/controls",
            "_view_module_version": "1.5.0",
            "_view_name": "ProgressView",
            "bar_style": "success",
            "description": "",
            "description_tooltip": null,
            "layout": "IPY_MODEL_89675f1d772144bea4f9bc7284dcf02d",
            "max": 267832558,
            "min": 0,
            "orientation": "horizontal",
            "style": "IPY_MODEL_8ace0bd084e845e7947535b35e8e024d",
            "value": 267832558
          }
        },
        "3bf896624277421f88361463a9ebb536": {
          "model_module": "@jupyter-widgets/controls",
          "model_module_version": "1.5.0",
          "model_name": "DescriptionStyleModel",
          "state": {
            "_model_module": "@jupyter-widgets/controls",
            "_model_module_version": "1.5.0",
            "_model_name": "DescriptionStyleModel",
            "_view_count": null,
            "_view_module": "@jupyter-widgets/base",
            "_view_module_version": "1.2.0",
            "_view_name": "StyleView",
            "description_width": ""
          }
        },
        "3ea5cb266b63461b85b012ef43b6cb92": {
          "model_module": "@jupyter-widgets/controls",
          "model_module_version": "1.5.0",
          "model_name": "DescriptionStyleModel",
          "state": {
            "_model_module": "@jupyter-widgets/controls",
            "_model_module_version": "1.5.0",
            "_model_name": "DescriptionStyleModel",
            "_view_count": null,
            "_view_module": "@jupyter-widgets/base",
            "_view_module_version": "1.2.0",
            "_view_name": "StyleView",
            "description_width": ""
          }
        },
        "513d99588b994e96bd146049726815b8": {
          "model_module": "@jupyter-widgets/controls",
          "model_module_version": "1.5.0",
          "model_name": "DescriptionStyleModel",
          "state": {
            "_model_module": "@jupyter-widgets/controls",
            "_model_module_version": "1.5.0",
            "_model_name": "DescriptionStyleModel",
            "_view_count": null,
            "_view_module": "@jupyter-widgets/base",
            "_view_module_version": "1.2.0",
            "_view_name": "StyleView",
            "description_width": ""
          }
        },
        "52868fc1d1b04c0894cbbd5ea4a9530a": {
          "model_module": "@jupyter-widgets/controls",
          "model_module_version": "1.5.0",
          "model_name": "HBoxModel",
          "state": {
            "_dom_classes": [],
            "_model_module": "@jupyter-widgets/controls",
            "_model_module_version": "1.5.0",
            "_model_name": "HBoxModel",
            "_view_count": null,
            "_view_module": "@jupyter-widgets/controls",
            "_view_module_version": "1.5.0",
            "_view_name": "HBoxView",
            "box_style": "",
            "children": [
              "IPY_MODEL_a1dd56d39fa54cc394580469fbe351e6",
              "IPY_MODEL_39a042b85f0d4508b24fc236a51ce7d8",
              "IPY_MODEL_12fad7de5b2541df92787eb6f05961d1"
            ],
            "layout": "IPY_MODEL_68cc832bede84d82bc5ef282237618d7"
          }
        },
        "5df97ce85ca24b14b57f4adc40bee4fa": {
          "model_module": "@jupyter-widgets/controls",
          "model_module_version": "1.5.0",
          "model_name": "HTMLModel",
          "state": {
            "_dom_classes": [],
            "_model_module": "@jupyter-widgets/controls",
            "_model_module_version": "1.5.0",
            "_model_name": "HTMLModel",
            "_view_count": null,
            "_view_module": "@jupyter-widgets/controls",
            "_view_module_version": "1.5.0",
            "_view_name": "HTMLView",
            "description": "",
            "description_tooltip": null,
            "layout": "IPY_MODEL_9b4744fd8d86401f9ee91d16e9895252",
            "placeholder": "​",
            "style": "IPY_MODEL_68ee17a9dab04bd8a346ba4716026b3d",
            "value": "vocab.txt: 100%"
          }
        },
        "5ef760decb224a09b43a49b08b304042": {
          "model_module": "@jupyter-widgets/controls",
          "model_module_version": "1.5.0",
          "model_name": "HBoxModel",
          "state": {
            "_dom_classes": [],
            "_model_module": "@jupyter-widgets/controls",
            "_model_module_version": "1.5.0",
            "_model_name": "HBoxModel",
            "_view_count": null,
            "_view_module": "@jupyter-widgets/controls",
            "_view_module_version": "1.5.0",
            "_view_name": "HBoxView",
            "box_style": "",
            "children": [
              "IPY_MODEL_ce01f3e6836a4b0d8f0538de6906c313",
              "IPY_MODEL_e41a2aaf68d84991b4d2f56a584c74ae",
              "IPY_MODEL_dd8222dea42c447bbf34a1e590dc7856"
            ],
            "layout": "IPY_MODEL_e6072e7c3c234af9b65563ae8b021f37"
          }
        },
        "62109ca4f8ce44beb0ed7e9039dce447": {
          "model_module": "@jupyter-widgets/controls",
          "model_module_version": "1.5.0",
          "model_name": "ProgressStyleModel",
          "state": {
            "_model_module": "@jupyter-widgets/controls",
            "_model_module_version": "1.5.0",
            "_model_name": "ProgressStyleModel",
            "_view_count": null,
            "_view_module": "@jupyter-widgets/base",
            "_view_module_version": "1.2.0",
            "_view_name": "StyleView",
            "bar_color": null,
            "description_width": ""
          }
        },
        "68cc832bede84d82bc5ef282237618d7": {
          "model_module": "@jupyter-widgets/base",
          "model_module_version": "1.2.0",
          "model_name": "LayoutModel",
          "state": {
            "_model_module": "@jupyter-widgets/base",
            "_model_module_version": "1.2.0",
            "_model_name": "LayoutModel",
            "_view_count": null,
            "_view_module": "@jupyter-widgets/base",
            "_view_module_version": "1.2.0",
            "_view_name": "LayoutView",
            "align_content": null,
            "align_items": null,
            "align_self": null,
            "border": null,
            "bottom": null,
            "display": null,
            "flex": null,
            "flex_flow": null,
            "grid_area": null,
            "grid_auto_columns": null,
            "grid_auto_flow": null,
            "grid_auto_rows": null,
            "grid_column": null,
            "grid_gap": null,
            "grid_row": null,
            "grid_template_areas": null,
            "grid_template_columns": null,
            "grid_template_rows": null,
            "height": null,
            "justify_content": null,
            "justify_items": null,
            "left": null,
            "margin": null,
            "max_height": null,
            "max_width": null,
            "min_height": null,
            "min_width": null,
            "object_fit": null,
            "object_position": null,
            "order": null,
            "overflow": null,
            "overflow_x": null,
            "overflow_y": null,
            "padding": null,
            "right": null,
            "top": null,
            "visibility": null,
            "width": null
          }
        },
        "68ee17a9dab04bd8a346ba4716026b3d": {
          "model_module": "@jupyter-widgets/controls",
          "model_module_version": "1.5.0",
          "model_name": "DescriptionStyleModel",
          "state": {
            "_model_module": "@jupyter-widgets/controls",
            "_model_module_version": "1.5.0",
            "_model_name": "DescriptionStyleModel",
            "_view_count": null,
            "_view_module": "@jupyter-widgets/base",
            "_view_module_version": "1.2.0",
            "_view_name": "StyleView",
            "description_width": ""
          }
        },
        "6a3b8e8e69424c35b03c0c8ba9cc2cfe": {
          "model_module": "@jupyter-widgets/controls",
          "model_module_version": "1.5.0",
          "model_name": "HBoxModel",
          "state": {
            "_dom_classes": [],
            "_model_module": "@jupyter-widgets/controls",
            "_model_module_version": "1.5.0",
            "_model_name": "HBoxModel",
            "_view_count": null,
            "_view_module": "@jupyter-widgets/controls",
            "_view_module_version": "1.5.0",
            "_view_name": "HBoxView",
            "box_style": "",
            "children": [
              "IPY_MODEL_5df97ce85ca24b14b57f4adc40bee4fa",
              "IPY_MODEL_d1b8a43fd4f34554a9cb325489786736",
              "IPY_MODEL_6d16c54d94154d3cb938a3ec475c9376"
            ],
            "layout": "IPY_MODEL_0fa72058453e44f0ba1b4de4f4432411"
          }
        },
        "6d16c54d94154d3cb938a3ec475c9376": {
          "model_module": "@jupyter-widgets/controls",
          "model_module_version": "1.5.0",
          "model_name": "HTMLModel",
          "state": {
            "_dom_classes": [],
            "_model_module": "@jupyter-widgets/controls",
            "_model_module_version": "1.5.0",
            "_model_name": "HTMLModel",
            "_view_count": null,
            "_view_module": "@jupyter-widgets/controls",
            "_view_module_version": "1.5.0",
            "_view_name": "HTMLView",
            "description": "",
            "description_tooltip": null,
            "layout": "IPY_MODEL_181e5ebcfc82471b97aacd1c99aa8c7a",
            "placeholder": "​",
            "style": "IPY_MODEL_d683563b88854c5da9fbd06f3db11fca",
            "value": " 232k/232k [00:00&lt;00:00, 2.24MB/s]"
          }
        },
        "856edc4404d1492197393d121c32caf9": {
          "model_module": "@jupyter-widgets/base",
          "model_module_version": "1.2.0",
          "model_name": "LayoutModel",
          "state": {
            "_model_module": "@jupyter-widgets/base",
            "_model_module_version": "1.2.0",
            "_model_name": "LayoutModel",
            "_view_count": null,
            "_view_module": "@jupyter-widgets/base",
            "_view_module_version": "1.2.0",
            "_view_name": "LayoutView",
            "align_content": null,
            "align_items": null,
            "align_self": null,
            "border": null,
            "bottom": null,
            "display": null,
            "flex": null,
            "flex_flow": null,
            "grid_area": null,
            "grid_auto_columns": null,
            "grid_auto_flow": null,
            "grid_auto_rows": null,
            "grid_column": null,
            "grid_gap": null,
            "grid_row": null,
            "grid_template_areas": null,
            "grid_template_columns": null,
            "grid_template_rows": null,
            "height": null,
            "justify_content": null,
            "justify_items": null,
            "left": null,
            "margin": null,
            "max_height": null,
            "max_width": null,
            "min_height": null,
            "min_width": null,
            "object_fit": null,
            "object_position": null,
            "order": null,
            "overflow": null,
            "overflow_x": null,
            "overflow_y": null,
            "padding": null,
            "right": null,
            "top": null,
            "visibility": null,
            "width": null
          }
        },
        "89675f1d772144bea4f9bc7284dcf02d": {
          "model_module": "@jupyter-widgets/base",
          "model_module_version": "1.2.0",
          "model_name": "LayoutModel",
          "state": {
            "_model_module": "@jupyter-widgets/base",
            "_model_module_version": "1.2.0",
            "_model_name": "LayoutModel",
            "_view_count": null,
            "_view_module": "@jupyter-widgets/base",
            "_view_module_version": "1.2.0",
            "_view_name": "LayoutView",
            "align_content": null,
            "align_items": null,
            "align_self": null,
            "border": null,
            "bottom": null,
            "display": null,
            "flex": null,
            "flex_flow": null,
            "grid_area": null,
            "grid_auto_columns": null,
            "grid_auto_flow": null,
            "grid_auto_rows": null,
            "grid_column": null,
            "grid_gap": null,
            "grid_row": null,
            "grid_template_areas": null,
            "grid_template_columns": null,
            "grid_template_rows": null,
            "height": null,
            "justify_content": null,
            "justify_items": null,
            "left": null,
            "margin": null,
            "max_height": null,
            "max_width": null,
            "min_height": null,
            "min_width": null,
            "object_fit": null,
            "object_position": null,
            "order": null,
            "overflow": null,
            "overflow_x": null,
            "overflow_y": null,
            "padding": null,
            "right": null,
            "top": null,
            "visibility": null,
            "width": null
          }
        },
        "8ace0bd084e845e7947535b35e8e024d": {
          "model_module": "@jupyter-widgets/controls",
          "model_module_version": "1.5.0",
          "model_name": "ProgressStyleModel",
          "state": {
            "_model_module": "@jupyter-widgets/controls",
            "_model_module_version": "1.5.0",
            "_model_name": "ProgressStyleModel",
            "_view_count": null,
            "_view_module": "@jupyter-widgets/base",
            "_view_module_version": "1.2.0",
            "_view_name": "StyleView",
            "bar_color": null,
            "description_width": ""
          }
        },
        "8febb11991f74247af7dc2dd780fdb0f": {
          "model_module": "@jupyter-widgets/controls",
          "model_module_version": "1.5.0",
          "model_name": "HBoxModel",
          "state": {
            "_dom_classes": [],
            "_model_module": "@jupyter-widgets/controls",
            "_model_module_version": "1.5.0",
            "_model_name": "HBoxModel",
            "_view_count": null,
            "_view_module": "@jupyter-widgets/controls",
            "_view_module_version": "1.5.0",
            "_view_name": "HBoxView",
            "box_style": "",
            "children": [
              "IPY_MODEL_f13399ae20be4ccfac935becf3d1ad59",
              "IPY_MODEL_d7ec15d80f104c2e803f2d3e41c99d2b",
              "IPY_MODEL_188226a85c4444dca7dd67e27d9b197e"
            ],
            "layout": "IPY_MODEL_22596b94a8fb4695b43d6b4889d14e3a"
          }
        },
        "991de7ddbe4a4c8f8234b07d07aba26a": {
          "model_module": "@jupyter-widgets/controls",
          "model_module_version": "1.5.0",
          "model_name": "DescriptionStyleModel",
          "state": {
            "_model_module": "@jupyter-widgets/controls",
            "_model_module_version": "1.5.0",
            "_model_name": "DescriptionStyleModel",
            "_view_count": null,
            "_view_module": "@jupyter-widgets/base",
            "_view_module_version": "1.2.0",
            "_view_name": "StyleView",
            "description_width": ""
          }
        },
        "9b4744fd8d86401f9ee91d16e9895252": {
          "model_module": "@jupyter-widgets/base",
          "model_module_version": "1.2.0",
          "model_name": "LayoutModel",
          "state": {
            "_model_module": "@jupyter-widgets/base",
            "_model_module_version": "1.2.0",
            "_model_name": "LayoutModel",
            "_view_count": null,
            "_view_module": "@jupyter-widgets/base",
            "_view_module_version": "1.2.0",
            "_view_name": "LayoutView",
            "align_content": null,
            "align_items": null,
            "align_self": null,
            "border": null,
            "bottom": null,
            "display": null,
            "flex": null,
            "flex_flow": null,
            "grid_area": null,
            "grid_auto_columns": null,
            "grid_auto_flow": null,
            "grid_auto_rows": null,
            "grid_column": null,
            "grid_gap": null,
            "grid_row": null,
            "grid_template_areas": null,
            "grid_template_columns": null,
            "grid_template_rows": null,
            "height": null,
            "justify_content": null,
            "justify_items": null,
            "left": null,
            "margin": null,
            "max_height": null,
            "max_width": null,
            "min_height": null,
            "min_width": null,
            "object_fit": null,
            "object_position": null,
            "order": null,
            "overflow": null,
            "overflow_x": null,
            "overflow_y": null,
            "padding": null,
            "right": null,
            "top": null,
            "visibility": null,
            "width": null
          }
        },
        "a1dd56d39fa54cc394580469fbe351e6": {
          "model_module": "@jupyter-widgets/controls",
          "model_module_version": "1.5.0",
          "model_name": "HTMLModel",
          "state": {
            "_dom_classes": [],
            "_model_module": "@jupyter-widgets/controls",
            "_model_module_version": "1.5.0",
            "_model_name": "HTMLModel",
            "_view_count": null,
            "_view_module": "@jupyter-widgets/controls",
            "_view_module_version": "1.5.0",
            "_view_name": "HTMLView",
            "description": "",
            "description_tooltip": null,
            "layout": "IPY_MODEL_ec38f798d2cc48ab9c4c66ee7ca75bf0",
            "placeholder": "​",
            "style": "IPY_MODEL_f740ec34fcdd41d79a60e83c56b77ed4",
            "value": "model.safetensors: 100%"
          }
        },
        "af1187e596444affbaa17fb9b044cac7": {
          "model_module": "@jupyter-widgets/controls",
          "model_module_version": "1.5.0",
          "model_name": "DescriptionStyleModel",
          "state": {
            "_model_module": "@jupyter-widgets/controls",
            "_model_module_version": "1.5.0",
            "_model_name": "DescriptionStyleModel",
            "_view_count": null,
            "_view_module": "@jupyter-widgets/base",
            "_view_module_version": "1.2.0",
            "_view_name": "StyleView",
            "description_width": ""
          }
        },
        "b69879442bdc4aec9f5a3e49458c9b35": {
          "model_module": "@jupyter-widgets/base",
          "model_module_version": "1.2.0",
          "model_name": "LayoutModel",
          "state": {
            "_model_module": "@jupyter-widgets/base",
            "_model_module_version": "1.2.0",
            "_model_name": "LayoutModel",
            "_view_count": null,
            "_view_module": "@jupyter-widgets/base",
            "_view_module_version": "1.2.0",
            "_view_name": "LayoutView",
            "align_content": null,
            "align_items": null,
            "align_self": null,
            "border": null,
            "bottom": null,
            "display": null,
            "flex": null,
            "flex_flow": null,
            "grid_area": null,
            "grid_auto_columns": null,
            "grid_auto_flow": null,
            "grid_auto_rows": null,
            "grid_column": null,
            "grid_gap": null,
            "grid_row": null,
            "grid_template_areas": null,
            "grid_template_columns": null,
            "grid_template_rows": null,
            "height": null,
            "justify_content": null,
            "justify_items": null,
            "left": null,
            "margin": null,
            "max_height": null,
            "max_width": null,
            "min_height": null,
            "min_width": null,
            "object_fit": null,
            "object_position": null,
            "order": null,
            "overflow": null,
            "overflow_x": null,
            "overflow_y": null,
            "padding": null,
            "right": null,
            "top": null,
            "visibility": null,
            "width": null
          }
        },
        "be69a906b9c1484893d79eac06763c4a": {
          "model_module": "@jupyter-widgets/base",
          "model_module_version": "1.2.0",
          "model_name": "LayoutModel",
          "state": {
            "_model_module": "@jupyter-widgets/base",
            "_model_module_version": "1.2.0",
            "_model_name": "LayoutModel",
            "_view_count": null,
            "_view_module": "@jupyter-widgets/base",
            "_view_module_version": "1.2.0",
            "_view_name": "LayoutView",
            "align_content": null,
            "align_items": null,
            "align_self": null,
            "border": null,
            "bottom": null,
            "display": null,
            "flex": null,
            "flex_flow": null,
            "grid_area": null,
            "grid_auto_columns": null,
            "grid_auto_flow": null,
            "grid_auto_rows": null,
            "grid_column": null,
            "grid_gap": null,
            "grid_row": null,
            "grid_template_areas": null,
            "grid_template_columns": null,
            "grid_template_rows": null,
            "height": null,
            "justify_content": null,
            "justify_items": null,
            "left": null,
            "margin": null,
            "max_height": null,
            "max_width": null,
            "min_height": null,
            "min_width": null,
            "object_fit": null,
            "object_position": null,
            "order": null,
            "overflow": null,
            "overflow_x": null,
            "overflow_y": null,
            "padding": null,
            "right": null,
            "top": null,
            "visibility": null,
            "width": null
          }
        },
        "c0aa41b4386c4d5aa9c0e9b9fcb84083": {
          "model_module": "@jupyter-widgets/base",
          "model_module_version": "1.2.0",
          "model_name": "LayoutModel",
          "state": {
            "_model_module": "@jupyter-widgets/base",
            "_model_module_version": "1.2.0",
            "_model_name": "LayoutModel",
            "_view_count": null,
            "_view_module": "@jupyter-widgets/base",
            "_view_module_version": "1.2.0",
            "_view_name": "LayoutView",
            "align_content": null,
            "align_items": null,
            "align_self": null,
            "border": null,
            "bottom": null,
            "display": null,
            "flex": null,
            "flex_flow": null,
            "grid_area": null,
            "grid_auto_columns": null,
            "grid_auto_flow": null,
            "grid_auto_rows": null,
            "grid_column": null,
            "grid_gap": null,
            "grid_row": null,
            "grid_template_areas": null,
            "grid_template_columns": null,
            "grid_template_rows": null,
            "height": null,
            "justify_content": null,
            "justify_items": null,
            "left": null,
            "margin": null,
            "max_height": null,
            "max_width": null,
            "min_height": null,
            "min_width": null,
            "object_fit": null,
            "object_position": null,
            "order": null,
            "overflow": null,
            "overflow_x": null,
            "overflow_y": null,
            "padding": null,
            "right": null,
            "top": null,
            "visibility": null,
            "width": null
          }
        },
        "ce01f3e6836a4b0d8f0538de6906c313": {
          "model_module": "@jupyter-widgets/controls",
          "model_module_version": "1.5.0",
          "model_name": "HTMLModel",
          "state": {
            "_dom_classes": [],
            "_model_module": "@jupyter-widgets/controls",
            "_model_module_version": "1.5.0",
            "_model_name": "HTMLModel",
            "_view_count": null,
            "_view_module": "@jupyter-widgets/controls",
            "_view_module_version": "1.5.0",
            "_view_name": "HTMLView",
            "description": "",
            "description_tooltip": null,
            "layout": "IPY_MODEL_be69a906b9c1484893d79eac06763c4a",
            "placeholder": "​",
            "style": "IPY_MODEL_3ea5cb266b63461b85b012ef43b6cb92",
            "value": "config.json: 100%"
          }
        },
        "d06de7418370428db898873d0c08060e": {
          "model_module": "@jupyter-widgets/base",
          "model_module_version": "1.2.0",
          "model_name": "LayoutModel",
          "state": {
            "_model_module": "@jupyter-widgets/base",
            "_model_module_version": "1.2.0",
            "_model_name": "LayoutModel",
            "_view_count": null,
            "_view_module": "@jupyter-widgets/base",
            "_view_module_version": "1.2.0",
            "_view_name": "LayoutView",
            "align_content": null,
            "align_items": null,
            "align_self": null,
            "border": null,
            "bottom": null,
            "display": null,
            "flex": null,
            "flex_flow": null,
            "grid_area": null,
            "grid_auto_columns": null,
            "grid_auto_flow": null,
            "grid_auto_rows": null,
            "grid_column": null,
            "grid_gap": null,
            "grid_row": null,
            "grid_template_areas": null,
            "grid_template_columns": null,
            "grid_template_rows": null,
            "height": null,
            "justify_content": null,
            "justify_items": null,
            "left": null,
            "margin": null,
            "max_height": null,
            "max_width": null,
            "min_height": null,
            "min_width": null,
            "object_fit": null,
            "object_position": null,
            "order": null,
            "overflow": null,
            "overflow_x": null,
            "overflow_y": null,
            "padding": null,
            "right": null,
            "top": null,
            "visibility": null,
            "width": null
          }
        },
        "d1b8a43fd4f34554a9cb325489786736": {
          "model_module": "@jupyter-widgets/controls",
          "model_module_version": "1.5.0",
          "model_name": "FloatProgressModel",
          "state": {
            "_dom_classes": [],
            "_model_module": "@jupyter-widgets/controls",
            "_model_module_version": "1.5.0",
            "_model_name": "FloatProgressModel",
            "_view_count": null,
            "_view_module": "@jupyter-widgets/controls",
            "_view_module_version": "1.5.0",
            "_view_name": "ProgressView",
            "bar_style": "success",
            "description": "",
            "description_tooltip": null,
            "layout": "IPY_MODEL_c0aa41b4386c4d5aa9c0e9b9fcb84083",
            "max": 231508,
            "min": 0,
            "orientation": "horizontal",
            "style": "IPY_MODEL_62109ca4f8ce44beb0ed7e9039dce447",
            "value": 231508
          }
        },
        "d683563b88854c5da9fbd06f3db11fca": {
          "model_module": "@jupyter-widgets/controls",
          "model_module_version": "1.5.0",
          "model_name": "DescriptionStyleModel",
          "state": {
            "_model_module": "@jupyter-widgets/controls",
            "_model_module_version": "1.5.0",
            "_model_name": "DescriptionStyleModel",
            "_view_count": null,
            "_view_module": "@jupyter-widgets/base",
            "_view_module_version": "1.2.0",
            "_view_name": "StyleView",
            "description_width": ""
          }
        },
        "d7ec15d80f104c2e803f2d3e41c99d2b": {
          "model_module": "@jupyter-widgets/controls",
          "model_module_version": "1.5.0",
          "model_name": "FloatProgressModel",
          "state": {
            "_dom_classes": [],
            "_model_module": "@jupyter-widgets/controls",
            "_model_module_version": "1.5.0",
            "_model_name": "FloatProgressModel",
            "_view_count": null,
            "_view_module": "@jupyter-widgets/controls",
            "_view_module_version": "1.5.0",
            "_view_name": "ProgressView",
            "bar_style": "success",
            "description": "",
            "description_tooltip": null,
            "layout": "IPY_MODEL_078b910f5ee24542b797c1cfc2991d96",
            "max": 48,
            "min": 0,
            "orientation": "horizontal",
            "style": "IPY_MODEL_3232e3c782024292bac2f2e6edf678dc",
            "value": 48
          }
        },
        "dc9a4c452cee4ca49cfd798cf568f125": {
          "model_module": "@jupyter-widgets/base",
          "model_module_version": "1.2.0",
          "model_name": "LayoutModel",
          "state": {
            "_model_module": "@jupyter-widgets/base",
            "_model_module_version": "1.2.0",
            "_model_name": "LayoutModel",
            "_view_count": null,
            "_view_module": "@jupyter-widgets/base",
            "_view_module_version": "1.2.0",
            "_view_name": "LayoutView",
            "align_content": null,
            "align_items": null,
            "align_self": null,
            "border": null,
            "bottom": null,
            "display": null,
            "flex": null,
            "flex_flow": null,
            "grid_area": null,
            "grid_auto_columns": null,
            "grid_auto_flow": null,
            "grid_auto_rows": null,
            "grid_column": null,
            "grid_gap": null,
            "grid_row": null,
            "grid_template_areas": null,
            "grid_template_columns": null,
            "grid_template_rows": null,
            "height": null,
            "justify_content": null,
            "justify_items": null,
            "left": null,
            "margin": null,
            "max_height": null,
            "max_width": null,
            "min_height": null,
            "min_width": null,
            "object_fit": null,
            "object_position": null,
            "order": null,
            "overflow": null,
            "overflow_x": null,
            "overflow_y": null,
            "padding": null,
            "right": null,
            "top": null,
            "visibility": null,
            "width": null
          }
        },
        "dd8222dea42c447bbf34a1e590dc7856": {
          "model_module": "@jupyter-widgets/controls",
          "model_module_version": "1.5.0",
          "model_name": "HTMLModel",
          "state": {
            "_dom_classes": [],
            "_model_module": "@jupyter-widgets/controls",
            "_model_module_version": "1.5.0",
            "_model_name": "HTMLModel",
            "_view_count": null,
            "_view_module": "@jupyter-widgets/controls",
            "_view_module_version": "1.5.0",
            "_view_name": "HTMLView",
            "description": "",
            "description_tooltip": null,
            "layout": "IPY_MODEL_d06de7418370428db898873d0c08060e",
            "placeholder": "​",
            "style": "IPY_MODEL_513d99588b994e96bd146049726815b8",
            "value": " 629/629 [00:00&lt;00:00, 11.4kB/s]"
          }
        },
        "e41a2aaf68d84991b4d2f56a584c74ae": {
          "model_module": "@jupyter-widgets/controls",
          "model_module_version": "1.5.0",
          "model_name": "FloatProgressModel",
          "state": {
            "_dom_classes": [],
            "_model_module": "@jupyter-widgets/controls",
            "_model_module_version": "1.5.0",
            "_model_name": "FloatProgressModel",
            "_view_count": null,
            "_view_module": "@jupyter-widgets/controls",
            "_view_module_version": "1.5.0",
            "_view_name": "ProgressView",
            "bar_style": "success",
            "description": "",
            "description_tooltip": null,
            "layout": "IPY_MODEL_04dd9444d4664e25a5f3e410d1076abc",
            "max": 629,
            "min": 0,
            "orientation": "horizontal",
            "style": "IPY_MODEL_19a80452dfa54bc28e277c92d53d5c19",
            "value": 629
          }
        },
        "e6072e7c3c234af9b65563ae8b021f37": {
          "model_module": "@jupyter-widgets/base",
          "model_module_version": "1.2.0",
          "model_name": "LayoutModel",
          "state": {
            "_model_module": "@jupyter-widgets/base",
            "_model_module_version": "1.2.0",
            "_model_name": "LayoutModel",
            "_view_count": null,
            "_view_module": "@jupyter-widgets/base",
            "_view_module_version": "1.2.0",
            "_view_name": "LayoutView",
            "align_content": null,
            "align_items": null,
            "align_self": null,
            "border": null,
            "bottom": null,
            "display": null,
            "flex": null,
            "flex_flow": null,
            "grid_area": null,
            "grid_auto_columns": null,
            "grid_auto_flow": null,
            "grid_auto_rows": null,
            "grid_column": null,
            "grid_gap": null,
            "grid_row": null,
            "grid_template_areas": null,
            "grid_template_columns": null,
            "grid_template_rows": null,
            "height": null,
            "justify_content": null,
            "justify_items": null,
            "left": null,
            "margin": null,
            "max_height": null,
            "max_width": null,
            "min_height": null,
            "min_width": null,
            "object_fit": null,
            "object_position": null,
            "order": null,
            "overflow": null,
            "overflow_x": null,
            "overflow_y": null,
            "padding": null,
            "right": null,
            "top": null,
            "visibility": null,
            "width": null
          }
        },
        "ec38f798d2cc48ab9c4c66ee7ca75bf0": {
          "model_module": "@jupyter-widgets/base",
          "model_module_version": "1.2.0",
          "model_name": "LayoutModel",
          "state": {
            "_model_module": "@jupyter-widgets/base",
            "_model_module_version": "1.2.0",
            "_model_name": "LayoutModel",
            "_view_count": null,
            "_view_module": "@jupyter-widgets/base",
            "_view_module_version": "1.2.0",
            "_view_name": "LayoutView",
            "align_content": null,
            "align_items": null,
            "align_self": null,
            "border": null,
            "bottom": null,
            "display": null,
            "flex": null,
            "flex_flow": null,
            "grid_area": null,
            "grid_auto_columns": null,
            "grid_auto_flow": null,
            "grid_auto_rows": null,
            "grid_column": null,
            "grid_gap": null,
            "grid_row": null,
            "grid_template_areas": null,
            "grid_template_columns": null,
            "grid_template_rows": null,
            "height": null,
            "justify_content": null,
            "justify_items": null,
            "left": null,
            "margin": null,
            "max_height": null,
            "max_width": null,
            "min_height": null,
            "min_width": null,
            "object_fit": null,
            "object_position": null,
            "order": null,
            "overflow": null,
            "overflow_x": null,
            "overflow_y": null,
            "padding": null,
            "right": null,
            "top": null,
            "visibility": null,
            "width": null
          }
        },
        "f13399ae20be4ccfac935becf3d1ad59": {
          "model_module": "@jupyter-widgets/controls",
          "model_module_version": "1.5.0",
          "model_name": "HTMLModel",
          "state": {
            "_dom_classes": [],
            "_model_module": "@jupyter-widgets/controls",
            "_model_module_version": "1.5.0",
            "_model_name": "HTMLModel",
            "_view_count": null,
            "_view_module": "@jupyter-widgets/controls",
            "_view_module_version": "1.5.0",
            "_view_name": "HTMLView",
            "description": "",
            "description_tooltip": null,
            "layout": "IPY_MODEL_b69879442bdc4aec9f5a3e49458c9b35",
            "placeholder": "​",
            "style": "IPY_MODEL_3bf896624277421f88361463a9ebb536",
            "value": "tokenizer_config.json: 100%"
          }
        },
        "f740ec34fcdd41d79a60e83c56b77ed4": {
          "model_module": "@jupyter-widgets/controls",
          "model_module_version": "1.5.0",
          "model_name": "DescriptionStyleModel",
          "state": {
            "_model_module": "@jupyter-widgets/controls",
            "_model_module_version": "1.5.0",
            "_model_name": "DescriptionStyleModel",
            "_view_count": null,
            "_view_module": "@jupyter-widgets/base",
            "_view_module_version": "1.2.0",
            "_view_name": "StyleView",
            "description_width": ""
          }
        }
      }
    }
  },
  "nbformat": 4,
  "nbformat_minor": 0
}
